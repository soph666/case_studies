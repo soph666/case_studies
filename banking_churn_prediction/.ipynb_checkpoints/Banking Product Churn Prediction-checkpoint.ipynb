{
 "cells": [
  {
   "cell_type": "markdown",
   "id": "c4c9c74d",
   "metadata": {},
   "source": []
  },
  {
   "cell_type": "code",
   "execution_count": 1,
   "id": "fd2b700c-2258-48f0-8f13-c94e76264c01",
   "metadata": {
    "tags": []
   },
   "outputs": [],
   "source": [
    "import pandas as pd\n",
    "from geopy.geocoders import Nominatim\n",
    "from sklearn.model_selection import train_test_split\n",
    "from sklearn.preprocessing import MinMaxScaler\n",
    "from sklearn.preprocessing import OneHotEncoder\n",
    "from sklearn.impute import SimpleImputer, KNNImputer\n",
    "from statsmodels.stats.outliers_influence import variance_inflation_factor\n",
    "from patsy import dmatrices\n",
    "# from sklearn.pipeline import Pipeline\n",
    "from sklearn.model_selection import cross_val_score\n",
    "from sklearn.model_selection import GridSearchCV\n",
    "from sklearn.model_selection import KFold\n",
    "from sklearn.compose import ColumnTransformer\n",
    "from sklearn import feature_selection\n",
    "from sklearn import model_selection\n",
    "from sklearn import metrics\n",
    "from sklearn.metrics import classification_report, precision_recall_curve\n",
    "from sklearn.metrics import auc, roc_auc_score, roc_curve\n",
    "from imblearn.over_sampling import ADASYN\n",
    "from imblearn.pipeline import Pipeline"
   ]
  },
  {
   "cell_type": "markdown",
   "id": "38438788-24a3-4ec1-9372-5b501ab5e6e1",
   "metadata": {},
   "source": [
    "# Data"
   ]
  },
  {
   "cell_type": "code",
   "execution_count": null,
   "id": "792bb521-46c5-489b-a5d1-6bc26aa3253f",
   "metadata": {},
   "outputs": [],
   "source": [
    "df = pd.read_csv('Churn Modeling.csv')"
   ]
  },
  {
   "cell_type": "markdown",
   "id": "ca40b952-04bc-4a73-95fa-cb730b19637b",
   "metadata": {},
   "source": [
    "### Data types to consider for encoding methods and which columns are unnecessary"
   ]
  },
  {
   "cell_type": "code",
   "execution_count": null,
   "id": "842b0283-d570-491d-b1c8-dad1ffb7bc2b",
   "metadata": {},
   "outputs": [],
   "source": [
    "df.dtypes"
   ]
  },
  {
   "cell_type": "code",
   "execution_count": null,
   "id": "ab81da81-42ca-42f0-bc84-11603d2e2a96",
   "metadata": {},
   "outputs": [],
   "source": [
    "df.head()"
   ]
  },
  {
   "cell_type": "markdown",
   "id": "19198f16-ddc4-454b-8373-9c59b91e22ef",
   "metadata": {},
   "source": [
    "Based on these available\n",
    "- RowNumber is not needed\n",
    "- CustomerId not needed for prediction \n",
    "- Surname should not matter for prediction\n",
    "- Unsure if Gender and Age can be used for prediction purpose due to compliance (assuming at least gender can't be used)"
   ]
  },
  {
   "cell_type": "markdown",
   "id": "f8a13003-787c-4b65-baae-b8f24f47354e",
   "metadata": {},
   "source": [
    "### Check counts with describe for nulls of numerical values"
   ]
  },
  {
   "cell_type": "code",
   "execution_count": null,
   "id": "27aeaf60-99a5-45a9-9346-62434fc9152b",
   "metadata": {},
   "outputs": [],
   "source": [
    "df.describe()\n",
    "#also checking if the ranges of values make sense or not to business"
   ]
  },
  {
   "cell_type": "code",
   "execution_count": null,
   "id": "29685948-33cc-4aa7-b14f-3cd409f4c228",
   "metadata": {},
   "outputs": [],
   "source": [
    "df.info()"
   ]
  },
  {
   "cell_type": "code",
   "execution_count": null,
   "id": "e7f7a041-3e16-4ea2-8945-8a442ad3025c",
   "metadata": {},
   "outputs": [],
   "source": [
    "print(df['Geography'].count())\n",
    "df['Geography'].value_counts()"
   ]
  },
  {
   "cell_type": "markdown",
   "id": "52b6495b-b931-470e-b86c-2b1a5b4c0a5c",
   "metadata": {},
   "source": [
    "There is only 3 missing value credit score, basic quality satisfied"
   ]
  },
  {
   "cell_type": "markdown",
   "id": "55395dc6-cf8d-45f5-bd73-92cc75cbda5a",
   "metadata": {},
   "source": [
    "### Check for correlations for multicolinearity and data leakage issue"
   ]
  },
  {
   "cell_type": "code",
   "execution_count": null,
   "id": "4d09a827-dfed-4af2-94d5-0986a1800b21",
   "metadata": {},
   "outputs": [],
   "source": [
    "df.corr()"
   ]
  },
  {
   "cell_type": "code",
   "execution_count": null,
   "id": "d34029d8-59a3-4954-9dd1-0cfde0ddde3a",
   "metadata": {},
   "outputs": [],
   "source": [
    "y, X = dmatrices('Exited ~ CreditScore+Age+Tenure+Balance+NumOfProducts+HasCrCard+IsActiveMember+EstimatedSalary', data=df, return_type='dataframe')\n"
   ]
  },
  {
   "cell_type": "code",
   "execution_count": null,
   "id": "4c76ea95-e33f-4958-957d-24f15dd2b9b4",
   "metadata": {},
   "outputs": [],
   "source": [
    "vif = pd.DataFrame()\n",
    "vif['VIF'] = [variance_inflation_factor(X.values, i) for i in range(X.shape[1])]\n",
    "vif['variable'] = X.columns\n",
    "vif"
   ]
  },
  {
   "cell_type": "markdown",
   "id": "c7969b63-4754-4c35-b162-fcc86a8767a5",
   "metadata": {},
   "source": [
    "There doesn't seem to be a leakage with a feature super correlated to Exited label especially IsActiveMember, which I thought would be highly correlated, but don't know if that is only because of nature of mock data. The VIF doesn't indicate there is multicolinearity issue"
   ]
  },
  {
   "cell_type": "markdown",
   "id": "3e8f9b70-7275-4bd0-8379-614d9a79113a",
   "metadata": {},
   "source": [
    "### Check for potential imbalanced data issue"
   ]
  },
  {
   "cell_type": "code",
   "execution_count": null,
   "id": "0044f4b2-0a08-49a3-a8cb-4b908fd89a80",
   "metadata": {},
   "outputs": [],
   "source": [
    "print(df['Exited'].value_counts()[1]/df['Exited'].value_counts()[0])\n",
    "df['Exited'].value_counts()"
   ]
  },
  {
   "cell_type": "markdown",
   "id": "a75defd8-899c-4ade-aa88-8d03cfe97d9d",
   "metadata": {},
   "source": [
    "Although ideally it would have 1:1 but 1:4 is still relatively okay ratio and can use SMOTE and ADASYN"
   ]
  },
  {
   "cell_type": "markdown",
   "id": "dc464bf1-e7ce-464d-af42-32b950a762ad",
   "metadata": {},
   "source": [
    "# Features\n",
    "There are no time components so no time variant features"
   ]
  },
  {
   "cell_type": "code",
   "execution_count": null,
   "id": "03c7e6e0-2d26-41dc-9b77-0e1c2fc7fd6c",
   "metadata": {},
   "outputs": [],
   "source": [
    "df.groupby(['Geography', 'Exited'])['Balance'].mean()"
   ]
  },
  {
   "cell_type": "code",
   "execution_count": null,
   "id": "47ec25ca-fe43-452f-8af7-cdbe66ae9c6a",
   "metadata": {},
   "outputs": [],
   "source": [
    "# df = pd.concat([df, pd.get_dummies(df['Geography'])], axis = 1)\n",
    "df['Geography'] = df['Geography'].apply(lambda x: 0 if x == 'France' else (1 if x == 'Spain' else 2))\n",
    "df['Gender'] = df['Gender'].apply(lambda x: 0 if x == 'Male' else 1)\n",
    "df"
   ]
  },
  {
   "cell_type": "code",
   "execution_count": null,
   "id": "3f2a9d39-41e5-4d28-a095-4f50880a0772",
   "metadata": {},
   "outputs": [],
   "source": [
    "df['Bal_Prod'] = df['Balance']/df['NumOfProducts']\n",
    "df['Ten2Age'] = df['Tenure']/df['Age']\n",
    "df['Sal2Bal'] = df['Balance']/df['EstimatedSalary']"
   ]
  },
  {
   "cell_type": "markdown",
   "id": "653390b5-dbc7-475d-a03b-bce0cf7c70ff",
   "metadata": {},
   "source": [
    "### Preprocessing"
   ]
  },
  {
   "cell_type": "markdown",
   "id": "771f95bb-0e5e-4be6-8d69-c2acaab73a2c",
   "metadata": {},
   "source": [
    "Drop columns, and split dataset"
   ]
  },
  {
   "cell_type": "code",
   "execution_count": null,
   "id": "e7223136-e2b3-41fa-80da-d056eac0e8b2",
   "metadata": {},
   "outputs": [],
   "source": [
    "X = df.drop(['RowNumber', 'CustomerId', 'Surname', 'Exited'], axis = 1)\n",
    "y = df['Exited']\n",
    "X_train, X_test, y_train, y_test = train_test_split(X, y, test_size = 0.3, random_state=0)\n"
   ]
  },
  {
   "cell_type": "code",
   "execution_count": null,
   "id": "eb1f6477-93ea-4338-8411-8c38ab7f1c8c",
   "metadata": {},
   "outputs": [],
   "source": [
    "print(y_train.value_counts())\n",
    "print(y_test.value_counts())"
   ]
  },
  {
   "cell_type": "markdown",
   "id": "e76d29d9-a44a-4ea7-9489-6d48bdd546f1",
   "metadata": {},
   "source": [
    "Define preprocessing functions to be put into pipeline"
   ]
  },
  {
   "cell_type": "code",
   "execution_count": null,
   "id": "6e986399-9f2d-4ca6-a115-cf2895461115",
   "metadata": {},
   "outputs": [],
   "source": [
    "from imblearn.over_sampling import ADASYN\n",
    "from imblearn.combine import SMOTEENN \n",
    "from imblearn.under_sampling import ClusterCentroids \n",
    "adasyn = SMOTEENN(sampling_strategy = 0.5, random_state=0)\n",
    "# adasyn = ClusterCentroids(random_state=0)\n",
    "\n",
    "imputer = KNNImputer()"
   ]
  },
  {
   "cell_type": "markdown",
   "id": "494052b9-ba85-4693-9f74-136be2595dea",
   "metadata": {},
   "source": [
    "# Models\n",
    "Start with the most basic Logistic and RandomForest, low dimension data doesn't really need dim reduction"
   ]
  },
  {
   "cell_type": "code",
   "execution_count": null,
   "id": "5cf8ccb9-3617-4562-9a37-be10d92ce255",
   "metadata": {},
   "outputs": [],
   "source": [
    "from sklearn.ensemble import RandomForestClassifier, GradientBoostingClassifier\n",
    "from sklearn.linear_model import LogisticRegression\n",
    "import xgboost as xgb\n",
    "from sklearn import svm\n",
    "\n",
    "rf_param_grid = {\n",
    "#     \"adasyn__sampling_strategy\": [0.4, 0.5],\n",
    "#     \"adasyn__n_neighbors\": [4, 5, 6],\n",
    "    \"classifier__max_depth\": [6],\n",
    "    \"classifier__n_estimators\": [80],\n",
    "    \"classifier__learning_rate\": [0.05],\n",
    "    \"classifier__gamma\": [0.1]\n",
    "    }\n",
    "rf_classifier = xgb.XGBClassifier(max_depth= 6, n_estimators = 80, eval_metric=[\"error\", 'logloss'],\n",
    "                                           learning_rate = 0.05, gamma=0.1, random_state=0, \n",
    "                                  use_label_encoder = False)\n"
   ]
  },
  {
   "cell_type": "markdown",
   "id": "ae1610f2-5e50-4fae-afff-1ac9ef8eca30",
   "metadata": {},
   "source": [
    "Define pipeline "
   ]
  },
  {
   "cell_type": "code",
   "execution_count": null,
   "id": "95770bc3",
   "metadata": {},
   "outputs": [],
   "source": [
    "from sklearn.preprocessing import RobustScaler\n"
   ]
  },
  {
   "cell_type": "code",
   "execution_count": null,
   "id": "c0847854-fb31-4a1b-810d-5953184cc307",
   "metadata": {
    "tags": []
   },
   "outputs": [],
   "source": [
    "pipe2 = Pipeline(steps = [\n",
    "    ('scaler', RobustScaler()),\n",
    "    ('impute', imputer), \n",
    "    ('adasyn', adasyn),\n",
    "    ('classifier', rf_classifier)\n",
    "                        ]\n",
    "               )"
   ]
  },
  {
   "cell_type": "code",
   "execution_count": null,
   "id": "058f89a7-4f88-4c80-8305-27ffcade792d",
   "metadata": {},
   "outputs": [],
   "source": [
    "mod2 = GridSearchCV(pipe2, rf_param_grid, cv = 5, \n",
    "                    refit = 'recall', \n",
    "                    scoring='recall'\n",
    "                   )\n"
   ]
  },
  {
   "cell_type": "code",
   "execution_count": null,
   "id": "5c7ae665-8872-49e5-84fc-0b4feb3b18fd",
   "metadata": {},
   "outputs": [],
   "source": [
    "print(mod2.fit(X_train, y_train))"
   ]
  },
  {
   "cell_type": "code",
   "execution_count": null,
   "id": "e3fb4a96-59f0-4fb3-b055-5286588edcab",
   "metadata": {},
   "outputs": [],
   "source": [
    "mod2.best_estimator_\n",
    "print(mod2.best_estimator_.get_params()['adasyn'])\n",
    "mod2.best_estimator_.get_params()['classifier']"
   ]
  },
  {
   "cell_type": "code",
   "execution_count": null,
   "id": "962cb6e2-4c0a-402a-90bc-cb5e332f0001",
   "metadata": {},
   "outputs": [],
   "source": [
    "from sklearn.metrics import f1_score, accuracy_score\n",
    "\n",
    "print('recall')\n",
    "print(mod2.score(X_test, y_test))\n",
    "\n",
    "print('accuracy')\n",
    "print(accuracy_score(y_test, mod2.predict(X_test)))\n",
    "\n",
    "print(f1_score(y_train, mod2.predict(X_train)))\n",
    "print(f1_score(y_test, mod2.predict(X_test)))\n",
    "#0.6265060240963856"
   ]
  },
  {
   "cell_type": "code",
   "execution_count": null,
   "id": "3c4d3add-19c1-4903-bb52-79ed8c37008c",
   "metadata": {},
   "outputs": [],
   "source": [
    "from sklearn.metrics import confusion_matrix\n",
    "print(confusion_matrix(y_train, mod2.predict(X_train)))\n",
    "print(confusion_matrix(y_test, mod2.predict(X_test)))"
   ]
  },
  {
   "cell_type": "code",
   "execution_count": null,
   "id": "b94cfa0d-8658-4767-aac0-658287355141",
   "metadata": {},
   "outputs": [],
   "source": [
    "from sklearn.metrics import classification_report\n",
    "print(classification_report(y_test, mod2.predict(X_test), output_dict = True))\n"
   ]
  },
  {
   "cell_type": "code",
   "execution_count": null,
   "id": "a5c2f915-a52e-48d0-a20d-eac51bf83f9e",
   "metadata": {},
   "outputs": [],
   "source": [
    "mod2.cv_results_['mean_test_score']"
   ]
  },
  {
   "cell_type": "code",
   "execution_count": null,
   "id": "ba015bc8",
   "metadata": {},
   "outputs": [],
   "source": [
    "from sklearn.metrics import PrecisionRecallDisplay\n",
    "\n",
    "display = PrecisionRecallDisplay.from_estimator(\n",
    "    mod2.best_estimator_.get_params()['classifier'], X_test, y_test, name=\"classifier\"\n",
    ")\n",
    "_ = display.ax_.set_title(\"2-class Precision-Recall curve\")\n"
   ]
  },
  {
   "cell_type": "code",
   "execution_count": null,
   "id": "a2033854",
   "metadata": {},
   "outputs": [],
   "source": [
    "display = PrecisionRecallDisplay.from_estimator(\n",
    "    mod2.best_estimator_.get_params()['classifier'], X_train, y_train, name=\"classifier\"\n",
    ")\n",
    "_ = display.ax_.set_title(\"2-class Precision-Recall curve\")\n"
   ]
  },
  {
   "cell_type": "code",
   "execution_count": null,
   "id": "2bd3bee1-a2aa-4d4b-a372-6da672efe1c9",
   "metadata": {},
   "outputs": [],
   "source": [
    "feat_importance = pd.DataFrame(mod2.best_estimator_.named_steps['classifier'].feature_importances_).T\n",
    "feat_importance.columns = X_train.columns\n",
    "feat_importance"
   ]
  },
  {
   "cell_type": "code",
   "execution_count": null,
   "id": "41e02a26-256d-4848-a000-9f92e95df7a2",
   "metadata": {
    "scrolled": false
   },
   "outputs": [],
   "source": [
    "# train a model with single tree\n",
    "import numpy as np\n",
    "Xd = xgb.DMatrix(X_train, label=y_train)\n",
    "Xt = xgb.DMatrix(X_test, label=y_test)\n",
    "\n",
    "params = {\n",
    "    \"eta\": 0.5,\n",
    "    \"max_depth\": 7,\n",
    "    \"objective\": \"binary:logistic\",\n",
    "    \"silent\": 1,\n",
    "    \"base_score\": np.mean(y_train),\n",
    "    \"eval_metric\": [\"logloss\", \"error\"],\n",
    "    \"learning_rate\": 0.3,\n",
    "    \"sampling_method\": 'gradient_based'\n",
    "}\n",
    "\n",
    "model = xgb.train(params, Xd, 1, \n",
    "                  [(Xd, \"train\"), (Xt, \"valid\")], early_stopping_rounds=5\n",
    "                 )\n",
    "print(\"Model error =\", np.linalg.norm(y_train-model.predict(Xd)))\n",
    "print(model.get_dump(with_stats=True)[0])"
   ]
  },
  {
   "cell_type": "code",
   "execution_count": null,
   "id": "76614314",
   "metadata": {},
   "outputs": [],
   "source": [
    "import shap\n",
    "pred = model.predict(Xd, output_margin=True)\n",
    "explainer = shap.TreeExplainer(model)\n",
    "shap_values = explainer.shap_values(Xd)\n",
    "np.abs(shap_values.sum(1) + explainer.expected_value - pred).max()"
   ]
  },
  {
   "cell_type": "code",
   "execution_count": null,
   "id": "a0f55fa1",
   "metadata": {},
   "outputs": [],
   "source": [
    "shap.summary_plot(shap_values, X_train)\n"
   ]
  },
  {
   "cell_type": "code",
   "execution_count": null,
   "id": "920ea0ae",
   "metadata": {},
   "outputs": [],
   "source": []
  }
 ],
 "metadata": {
  "kernelspec": {
   "display_name": "Python 3",
   "language": "python",
   "name": "python3"
  },
  "language_info": {
   "codemirror_mode": {
    "name": "ipython",
    "version": 3
   },
   "file_extension": ".py",
   "mimetype": "text/x-python",
   "name": "python",
   "nbconvert_exporter": "python",
   "pygments_lexer": "ipython3",
   "version": "3.8.8"
  }
 },
 "nbformat": 4,
 "nbformat_minor": 5
}
