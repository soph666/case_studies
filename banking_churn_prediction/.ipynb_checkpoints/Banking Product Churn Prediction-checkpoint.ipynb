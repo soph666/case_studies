{
 "cells": [
  {
   "cell_type": "markdown",
   "id": "a910e6ec",
   "metadata": {},
   "source": [
    "# Mock Banking Data Case Study\n",
    "\n",
    "Develop an analytically based strategy to predict which customers are most likely to churn and how we can stem attrition. Where the target variable is exited or not, the data is mock data. Present findings and strategic recommendations"
   ]
  },
  {
   "cell_type": "code",
   "execution_count": 24,
   "id": "fd2b700c-2258-48f0-8f13-c94e76264c01",
   "metadata": {
    "tags": []
   },
   "outputs": [],
   "source": [
    "import pandas as pd\n",
    "from geopy.geocoders import Nominatim\n",
    "from sklearn.model_selection import train_test_split\n",
    "from sklearn.preprocessing import MinMaxScaler\n",
    "from sklearn.preprocessing import OneHotEncoder\n",
    "from sklearn.impute import SimpleImputer, KNNImputer\n",
    "from statsmodels.stats.outliers_influence import variance_inflation_factor\n",
    "from patsy import dmatrices\n",
    "from sklearn.model_selection import cross_val_score\n",
    "from sklearn.model_selection import GridSearchCV\n",
    "from sklearn.model_selection import KFold\n",
    "from sklearn.compose import ColumnTransformer\n",
    "from sklearn import feature_selection\n",
    "from sklearn import model_selection\n",
    "from sklearn import metrics\n",
    "from sklearn.metrics import classification_report, precision_recall_curve\n",
    "from sklearn.metrics import auc, roc_auc_score, roc_curve\n",
    "from imblearn.over_sampling import ADASYN\n",
    "from imblearn.pipeline import Pipeline\n",
    "import seaborn as sns\n",
    "import featuretools as ft"
   ]
  },
  {
   "cell_type": "markdown",
   "id": "38438788-24a3-4ec1-9372-5b501ab5e6e1",
   "metadata": {},
   "source": [
    "# Data + EDA"
   ]
  },
  {
   "cell_type": "code",
   "execution_count": 2,
   "id": "792bb521-46c5-489b-a5d1-6bc26aa3253f",
   "metadata": {},
   "outputs": [
    {
     "name": "stdout",
     "output_type": "stream",
     "text": [
      "Index(['RowNumber', 'CustomerId', 'Surname', 'CreditScore', 'Geography',\n",
      "       'Gender', 'Age', 'Tenure', 'Balance', 'NumOfProducts', 'HasCrCard',\n",
      "       'IsActiveMember', 'EstimatedSalary', 'Exited'],\n",
      "      dtype='object')\n"
     ]
    },
    {
     "data": {
      "text/html": [
       "<div>\n",
       "<style scoped>\n",
       "    .dataframe tbody tr th:only-of-type {\n",
       "        vertical-align: middle;\n",
       "    }\n",
       "\n",
       "    .dataframe tbody tr th {\n",
       "        vertical-align: top;\n",
       "    }\n",
       "\n",
       "    .dataframe thead th {\n",
       "        text-align: right;\n",
       "    }\n",
       "</style>\n",
       "<table border=\"1\" class=\"dataframe\">\n",
       "  <thead>\n",
       "    <tr style=\"text-align: right;\">\n",
       "      <th></th>\n",
       "      <th>RowNumber</th>\n",
       "      <th>CustomerId</th>\n",
       "      <th>Surname</th>\n",
       "      <th>CreditScore</th>\n",
       "      <th>Geography</th>\n",
       "      <th>Gender</th>\n",
       "      <th>Age</th>\n",
       "      <th>Tenure</th>\n",
       "      <th>Balance</th>\n",
       "      <th>NumOfProducts</th>\n",
       "      <th>HasCrCard</th>\n",
       "      <th>IsActiveMember</th>\n",
       "      <th>EstimatedSalary</th>\n",
       "      <th>Exited</th>\n",
       "    </tr>\n",
       "  </thead>\n",
       "  <tbody>\n",
       "    <tr>\n",
       "      <th>0</th>\n",
       "      <td>1</td>\n",
       "      <td>15634602</td>\n",
       "      <td>Hargrave</td>\n",
       "      <td>619.0</td>\n",
       "      <td>France</td>\n",
       "      <td>Female</td>\n",
       "      <td>42</td>\n",
       "      <td>2</td>\n",
       "      <td>0.00</td>\n",
       "      <td>1</td>\n",
       "      <td>1</td>\n",
       "      <td>1</td>\n",
       "      <td>101348.88</td>\n",
       "      <td>1</td>\n",
       "    </tr>\n",
       "    <tr>\n",
       "      <th>1</th>\n",
       "      <td>2</td>\n",
       "      <td>15647311</td>\n",
       "      <td>Hill</td>\n",
       "      <td>608.0</td>\n",
       "      <td>Spain</td>\n",
       "      <td>Female</td>\n",
       "      <td>41</td>\n",
       "      <td>1</td>\n",
       "      <td>83807.86</td>\n",
       "      <td>1</td>\n",
       "      <td>0</td>\n",
       "      <td>1</td>\n",
       "      <td>112542.58</td>\n",
       "      <td>0</td>\n",
       "    </tr>\n",
       "    <tr>\n",
       "      <th>2</th>\n",
       "      <td>3</td>\n",
       "      <td>15619304</td>\n",
       "      <td>Onio</td>\n",
       "      <td>502.0</td>\n",
       "      <td>France</td>\n",
       "      <td>Female</td>\n",
       "      <td>42</td>\n",
       "      <td>8</td>\n",
       "      <td>159660.80</td>\n",
       "      <td>3</td>\n",
       "      <td>1</td>\n",
       "      <td>0</td>\n",
       "      <td>113931.57</td>\n",
       "      <td>1</td>\n",
       "    </tr>\n",
       "    <tr>\n",
       "      <th>3</th>\n",
       "      <td>4</td>\n",
       "      <td>15701354</td>\n",
       "      <td>Boni</td>\n",
       "      <td>699.0</td>\n",
       "      <td>France</td>\n",
       "      <td>Female</td>\n",
       "      <td>39</td>\n",
       "      <td>1</td>\n",
       "      <td>0.00</td>\n",
       "      <td>2</td>\n",
       "      <td>0</td>\n",
       "      <td>0</td>\n",
       "      <td>93826.63</td>\n",
       "      <td>0</td>\n",
       "    </tr>\n",
       "    <tr>\n",
       "      <th>4</th>\n",
       "      <td>5</td>\n",
       "      <td>15737888</td>\n",
       "      <td>Mitchell</td>\n",
       "      <td>850.0</td>\n",
       "      <td>Spain</td>\n",
       "      <td>Female</td>\n",
       "      <td>43</td>\n",
       "      <td>2</td>\n",
       "      <td>125510.82</td>\n",
       "      <td>1</td>\n",
       "      <td>1</td>\n",
       "      <td>1</td>\n",
       "      <td>79084.10</td>\n",
       "      <td>0</td>\n",
       "    </tr>\n",
       "  </tbody>\n",
       "</table>\n",
       "</div>"
      ],
      "text/plain": [
       "   RowNumber  CustomerId   Surname  CreditScore Geography  Gender  Age  \\\n",
       "0          1    15634602  Hargrave        619.0    France  Female   42   \n",
       "1          2    15647311      Hill        608.0     Spain  Female   41   \n",
       "2          3    15619304      Onio        502.0    France  Female   42   \n",
       "3          4    15701354      Boni        699.0    France  Female   39   \n",
       "4          5    15737888  Mitchell        850.0     Spain  Female   43   \n",
       "\n",
       "   Tenure    Balance  NumOfProducts  HasCrCard  IsActiveMember  \\\n",
       "0       2       0.00              1          1               1   \n",
       "1       1   83807.86              1          0               1   \n",
       "2       8  159660.80              3          1               0   \n",
       "3       1       0.00              2          0               0   \n",
       "4       2  125510.82              1          1               1   \n",
       "\n",
       "   EstimatedSalary  Exited  \n",
       "0        101348.88       1  \n",
       "1        112542.58       0  \n",
       "2        113931.57       1  \n",
       "3         93826.63       0  \n",
       "4         79084.10       0  "
      ]
     },
     "execution_count": 2,
     "metadata": {},
     "output_type": "execute_result"
    }
   ],
   "source": [
    "df = pd.read_csv('Churn Modeling.csv')\n",
    "print(df.columns)\n",
    "df.head()"
   ]
  },
  {
   "cell_type": "markdown",
   "id": "e4ec6e59",
   "metadata": {},
   "source": [
    "Based on above information:\n",
    "- RowNumber is not needed\n",
    "- For churn prediction CustomerId and Surname are not needed\n",
    "- If there are compliance and privacy issues, Gender and Age can't be used"
   ]
  },
  {
   "cell_type": "markdown",
   "id": "db86ed92",
   "metadata": {},
   "source": [
    "### Data Quality Check"
   ]
  },
  {
   "cell_type": "code",
   "execution_count": 3,
   "id": "29685948-33cc-4aa7-b14f-3cd409f4c228",
   "metadata": {},
   "outputs": [
    {
     "name": "stdout",
     "output_type": "stream",
     "text": [
      "<class 'pandas.core.frame.DataFrame'>\n",
      "RangeIndex: 10000 entries, 0 to 9999\n",
      "Data columns (total 14 columns):\n",
      " #   Column           Non-Null Count  Dtype  \n",
      "---  ------           --------------  -----  \n",
      " 0   RowNumber        10000 non-null  int64  \n",
      " 1   CustomerId       10000 non-null  int64  \n",
      " 2   Surname          10000 non-null  object \n",
      " 3   CreditScore      9997 non-null   float64\n",
      " 4   Geography        10000 non-null  object \n",
      " 5   Gender           10000 non-null  object \n",
      " 6   Age              10000 non-null  int64  \n",
      " 7   Tenure           10000 non-null  int64  \n",
      " 8   Balance          10000 non-null  float64\n",
      " 9   NumOfProducts    10000 non-null  int64  \n",
      " 10  HasCrCard        10000 non-null  int64  \n",
      " 11  IsActiveMember   10000 non-null  int64  \n",
      " 12  EstimatedSalary  10000 non-null  float64\n",
      " 13  Exited           10000 non-null  int64  \n",
      "dtypes: float64(3), int64(8), object(3)\n",
      "memory usage: 1.1+ MB\n"
     ]
    }
   ],
   "source": [
    "df.info()"
   ]
  },
  {
   "cell_type": "code",
   "execution_count": 4,
   "id": "27aeaf60-99a5-45a9-9346-62434fc9152b",
   "metadata": {},
   "outputs": [
    {
     "data": {
      "text/html": [
       "<div>\n",
       "<style scoped>\n",
       "    .dataframe tbody tr th:only-of-type {\n",
       "        vertical-align: middle;\n",
       "    }\n",
       "\n",
       "    .dataframe tbody tr th {\n",
       "        vertical-align: top;\n",
       "    }\n",
       "\n",
       "    .dataframe thead th {\n",
       "        text-align: right;\n",
       "    }\n",
       "</style>\n",
       "<table border=\"1\" class=\"dataframe\">\n",
       "  <thead>\n",
       "    <tr style=\"text-align: right;\">\n",
       "      <th></th>\n",
       "      <th>RowNumber</th>\n",
       "      <th>CustomerId</th>\n",
       "      <th>CreditScore</th>\n",
       "      <th>Age</th>\n",
       "      <th>Tenure</th>\n",
       "      <th>Balance</th>\n",
       "      <th>NumOfProducts</th>\n",
       "      <th>HasCrCard</th>\n",
       "      <th>IsActiveMember</th>\n",
       "      <th>EstimatedSalary</th>\n",
       "      <th>Exited</th>\n",
       "    </tr>\n",
       "  </thead>\n",
       "  <tbody>\n",
       "    <tr>\n",
       "      <th>count</th>\n",
       "      <td>10000.00000</td>\n",
       "      <td>1.000000e+04</td>\n",
       "      <td>9997.000000</td>\n",
       "      <td>10000.000000</td>\n",
       "      <td>10000.000000</td>\n",
       "      <td>10000.000000</td>\n",
       "      <td>10000.000000</td>\n",
       "      <td>10000.00000</td>\n",
       "      <td>10000.000000</td>\n",
       "      <td>10000.000000</td>\n",
       "      <td>10000.000000</td>\n",
       "    </tr>\n",
       "    <tr>\n",
       "      <th>mean</th>\n",
       "      <td>5000.50000</td>\n",
       "      <td>1.569094e+07</td>\n",
       "      <td>650.496849</td>\n",
       "      <td>38.943500</td>\n",
       "      <td>5.015400</td>\n",
       "      <td>76485.889288</td>\n",
       "      <td>1.530200</td>\n",
       "      <td>0.70550</td>\n",
       "      <td>0.515100</td>\n",
       "      <td>100090.239881</td>\n",
       "      <td>0.203700</td>\n",
       "    </tr>\n",
       "    <tr>\n",
       "      <th>std</th>\n",
       "      <td>2886.89568</td>\n",
       "      <td>7.193619e+04</td>\n",
       "      <td>96.708600</td>\n",
       "      <td>10.613726</td>\n",
       "      <td>2.902931</td>\n",
       "      <td>62397.405202</td>\n",
       "      <td>0.581654</td>\n",
       "      <td>0.45584</td>\n",
       "      <td>0.499797</td>\n",
       "      <td>57510.492818</td>\n",
       "      <td>0.402769</td>\n",
       "    </tr>\n",
       "    <tr>\n",
       "      <th>min</th>\n",
       "      <td>1.00000</td>\n",
       "      <td>1.556570e+07</td>\n",
       "      <td>305.000000</td>\n",
       "      <td>18.000000</td>\n",
       "      <td>0.000000</td>\n",
       "      <td>0.000000</td>\n",
       "      <td>1.000000</td>\n",
       "      <td>0.00000</td>\n",
       "      <td>0.000000</td>\n",
       "      <td>11.580000</td>\n",
       "      <td>0.000000</td>\n",
       "    </tr>\n",
       "    <tr>\n",
       "      <th>25%</th>\n",
       "      <td>2500.75000</td>\n",
       "      <td>1.562853e+07</td>\n",
       "      <td>584.000000</td>\n",
       "      <td>32.000000</td>\n",
       "      <td>3.000000</td>\n",
       "      <td>0.000000</td>\n",
       "      <td>1.000000</td>\n",
       "      <td>0.00000</td>\n",
       "      <td>0.000000</td>\n",
       "      <td>51002.110000</td>\n",
       "      <td>0.000000</td>\n",
       "    </tr>\n",
       "    <tr>\n",
       "      <th>50%</th>\n",
       "      <td>5000.50000</td>\n",
       "      <td>1.569074e+07</td>\n",
       "      <td>652.000000</td>\n",
       "      <td>37.000000</td>\n",
       "      <td>5.000000</td>\n",
       "      <td>97198.540000</td>\n",
       "      <td>1.000000</td>\n",
       "      <td>1.00000</td>\n",
       "      <td>1.000000</td>\n",
       "      <td>100193.915000</td>\n",
       "      <td>0.000000</td>\n",
       "    </tr>\n",
       "    <tr>\n",
       "      <th>75%</th>\n",
       "      <td>7500.25000</td>\n",
       "      <td>1.575323e+07</td>\n",
       "      <td>718.000000</td>\n",
       "      <td>44.000000</td>\n",
       "      <td>7.250000</td>\n",
       "      <td>127644.240000</td>\n",
       "      <td>2.000000</td>\n",
       "      <td>1.00000</td>\n",
       "      <td>1.000000</td>\n",
       "      <td>149388.247500</td>\n",
       "      <td>0.000000</td>\n",
       "    </tr>\n",
       "    <tr>\n",
       "      <th>max</th>\n",
       "      <td>10000.00000</td>\n",
       "      <td>1.581569e+07</td>\n",
       "      <td>865.000000</td>\n",
       "      <td>190.000000</td>\n",
       "      <td>30.000000</td>\n",
       "      <td>250898.090000</td>\n",
       "      <td>4.000000</td>\n",
       "      <td>1.00000</td>\n",
       "      <td>1.000000</td>\n",
       "      <td>199992.480000</td>\n",
       "      <td>1.000000</td>\n",
       "    </tr>\n",
       "  </tbody>\n",
       "</table>\n",
       "</div>"
      ],
      "text/plain": [
       "         RowNumber    CustomerId  CreditScore           Age        Tenure  \\\n",
       "count  10000.00000  1.000000e+04  9997.000000  10000.000000  10000.000000   \n",
       "mean    5000.50000  1.569094e+07   650.496849     38.943500      5.015400   \n",
       "std     2886.89568  7.193619e+04    96.708600     10.613726      2.902931   \n",
       "min        1.00000  1.556570e+07   305.000000     18.000000      0.000000   \n",
       "25%     2500.75000  1.562853e+07   584.000000     32.000000      3.000000   \n",
       "50%     5000.50000  1.569074e+07   652.000000     37.000000      5.000000   \n",
       "75%     7500.25000  1.575323e+07   718.000000     44.000000      7.250000   \n",
       "max    10000.00000  1.581569e+07   865.000000    190.000000     30.000000   \n",
       "\n",
       "             Balance  NumOfProducts    HasCrCard  IsActiveMember  \\\n",
       "count   10000.000000   10000.000000  10000.00000    10000.000000   \n",
       "mean    76485.889288       1.530200      0.70550        0.515100   \n",
       "std     62397.405202       0.581654      0.45584        0.499797   \n",
       "min         0.000000       1.000000      0.00000        0.000000   \n",
       "25%         0.000000       1.000000      0.00000        0.000000   \n",
       "50%     97198.540000       1.000000      1.00000        1.000000   \n",
       "75%    127644.240000       2.000000      1.00000        1.000000   \n",
       "max    250898.090000       4.000000      1.00000        1.000000   \n",
       "\n",
       "       EstimatedSalary        Exited  \n",
       "count     10000.000000  10000.000000  \n",
       "mean     100090.239881      0.203700  \n",
       "std       57510.492818      0.402769  \n",
       "min          11.580000      0.000000  \n",
       "25%       51002.110000      0.000000  \n",
       "50%      100193.915000      0.000000  \n",
       "75%      149388.247500      0.000000  \n",
       "max      199992.480000      1.000000  "
      ]
     },
     "execution_count": 4,
     "metadata": {},
     "output_type": "execute_result"
    }
   ],
   "source": [
    "df.describe()"
   ]
  },
  {
   "cell_type": "code",
   "execution_count": 5,
   "id": "4f8c1134",
   "metadata": {},
   "outputs": [
    {
     "name": "stdout",
     "output_type": "stream",
     "text": [
      "10000\n"
     ]
    },
    {
     "data": {
      "text/plain": [
       "<AxesSubplot:>"
      ]
     },
     "execution_count": 5,
     "metadata": {},
     "output_type": "execute_result"
    },
    {
     "data": {
      "image/png": "[encoded data removed]",
      "text/plain": [
       "<Figure size 432x288 with 1 Axes>"
      ]
     },
     "metadata": {
      "needs_background": "light"
     },
     "output_type": "display_data"
    }
   ],
   "source": [
    "print(df['Gender'].count())\n",
    "df['Gender'].value_counts().plot.bar()"
   ]
  },
  {
   "cell_type": "code",
   "execution_count": 6,
   "id": "e7f7a041-3e16-4ea2-8945-8a442ad3025c",
   "metadata": {},
   "outputs": [
    {
     "name": "stdout",
     "output_type": "stream",
     "text": [
      "10000\n"
     ]
    },
    {
     "data": {
      "text/plain": [
       "<AxesSubplot:>"
      ]
     },
     "execution_count": 6,
     "metadata": {},
     "output_type": "execute_result"
    },
    {
     "data": {
      "image/png": "[encoded data removed]",
      "text/plain": [
       "<Figure size 432x288 with 1 Axes>"
      ]
     },
     "metadata": {
      "needs_background": "light"
     },
     "output_type": "display_data"
    }
   ],
   "source": [
    "print(df['Geography'].count())\n",
    "df['Geography'].value_counts().plot.bar()"
   ]
  },
  {
   "cell_type": "code",
   "execution_count": 7,
   "id": "fc25c8fc",
   "metadata": {},
   "outputs": [
    {
     "data": {
      "text/plain": [
       "1.0"
      ]
     },
     "execution_count": 7,
     "metadata": {},
     "output_type": "execute_result"
    }
   ],
   "source": [
    "df.groupby(['CustomerId'])['RowNumber'].count().mean()"
   ]
  },
  {
   "cell_type": "markdown",
   "id": "e16b8130",
   "metadata": {},
   "source": [
    "- Accuracy: \n",
    "    - Age is 18 - 190 which is too high\n",
    "    - Tenure is 0 years too low, but assuming that it could be a few months rounded down\n",
    "    - Balance of 0 should be considered as in active or churned maybe\n",
    "    - CreditScore of lower than 350 is not according to case description but assume it's actually possible\n",
    "    - Estimated salary min is too low\n",
    "    - What is even neutral age...\n",
    "- Relevancy: given data, assumption on relevance\n",
    "- Completeness: CreditScore seems to be missing a few values\n",
    "- Timeliness: assumed to be up to date\n",
    "- Consistency:the assumed consistency\n",
    "\n",
    "--> No duplications on CustomerId"
   ]
  },
  {
   "cell_type": "markdown",
   "id": "6ec20629",
   "metadata": {},
   "source": [
    "### Distributions"
   ]
  },
  {
   "cell_type": "code",
   "execution_count": 8,
   "id": "cdcac550",
   "metadata": {},
   "outputs": [
    {
     "data": {
      "text/plain": [
       "array([[<AxesSubplot:title={'center':'RowNumber'}>,\n",
       "        <AxesSubplot:title={'center':'CustomerId'}>,\n",
       "        <AxesSubplot:title={'center':'CreditScore'}>],\n",
       "       [<AxesSubplot:title={'center':'Age'}>,\n",
       "        <AxesSubplot:title={'center':'Tenure'}>,\n",
       "        <AxesSubplot:title={'center':'Balance'}>],\n",
       "       [<AxesSubplot:title={'center':'NumOfProducts'}>,\n",
       "        <AxesSubplot:title={'center':'HasCrCard'}>,\n",
       "        <AxesSubplot:title={'center':'IsActiveMember'}>],\n",
       "       [<AxesSubplot:title={'center':'EstimatedSalary'}>,\n",
       "        <AxesSubplot:title={'center':'Exited'}>, <AxesSubplot:>]],\n",
       "      dtype=object)"
      ]
     },
     "execution_count": 8,
     "metadata": {},
     "output_type": "execute_result"
    },
    {
     "data": {
      "image/png": "[encoded data removed]",
      "text/plain": [
       "<Figure size 1440x720 with 12 Axes>"
      ]
     },
     "metadata": {
      "needs_background": "light"
     },
     "output_type": "display_data"
    }
   ],
   "source": [
    "df.hist(bins=30, figsize=(20, 10))"
   ]
  },
  {
   "cell_type": "code",
   "execution_count": 9,
   "id": "d240fecc",
   "metadata": {},
   "outputs": [
    {
     "name": "stdout",
     "output_type": "stream",
     "text": [
      "4849\n",
      "3617\n"
     ]
    },
    {
     "data": {
      "text/plain": [
       "1744"
      ]
     },
     "execution_count": 9,
     "metadata": {},
     "output_type": "execute_result"
    }
   ],
   "source": [
    "print(sum((df['IsActiveMember'] == 0)))\n",
    "print(sum((df['Balance'] == 0)))\n",
    "sum(df['IsActiveMember']==df['Balance'])"
   ]
  },
  {
   "cell_type": "code",
   "execution_count": 10,
   "id": "708ac44c",
   "metadata": {},
   "outputs": [
    {
     "name": "stdout",
     "output_type": "stream",
     "text": [
      "France     5014\n",
      "Germany    2509\n",
      "Spain      2477\n",
      "Name: Geography, dtype: int64\n"
     ]
    },
    {
     "data": {
      "text/plain": [
       "France    2418\n",
       "Spain     1199\n",
       "Name: Geography, dtype: int64"
      ]
     },
     "execution_count": 10,
     "metadata": {},
     "output_type": "execute_result"
    }
   ],
   "source": [
    "print(df['Geography'].value_counts())\n",
    "df[df['Balance'] == 0]['Geography'].value_counts()"
   ]
  },
  {
   "cell_type": "code",
   "execution_count": 11,
   "id": "6167d9f0",
   "metadata": {},
   "outputs": [
    {
     "name": "stdout",
     "output_type": "stream",
     "text": [
      "4849\n",
      "7963\n"
     ]
    },
    {
     "data": {
      "text/plain": [
       "4282"
      ]
     },
     "execution_count": 11,
     "metadata": {},
     "output_type": "execute_result"
    }
   ],
   "source": [
    "print(sum((df['IsActiveMember'] == 0)))\n",
    "print(sum((df['Exited'] == 0)))\n",
    "sum(df['IsActiveMember']==df['Exited'])"
   ]
  },
  {
   "cell_type": "code",
   "execution_count": 12,
   "id": "d993edbc",
   "metadata": {},
   "outputs": [
    {
     "data": {
      "text/plain": [
       "France     2423\n",
       "Germany    1261\n",
       "Spain      1165\n",
       "Name: Geography, dtype: int64"
      ]
     },
     "execution_count": 12,
     "metadata": {},
     "output_type": "execute_result"
    }
   ],
   "source": [
    "df[df['IsActiveMember'] == 0]['Geography'].value_counts()"
   ]
  },
  {
   "cell_type": "markdown",
   "id": "ef3d9a57",
   "metadata": {},
   "source": [
    "- CreditScore should be [350, 850], outlier exists, relatively normal distributed\n",
    "- Age range 18 - 85, outlier exists, relatively normal distribution\n",
    "- Balance 0 come from France and Spain, might want to consider taking them out or only look at Germany, relatively normal distribution\n",
    "- Tenure outlier exists, uniform distribution\n",
    "- EstimatedSalary, uniform distribution"
   ]
  },
  {
   "cell_type": "markdown",
   "id": "55395dc6-cf8d-45f5-bd73-92cc75cbda5a",
   "metadata": {},
   "source": [
    "### Correlations & Data Leakage"
   ]
  },
  {
   "cell_type": "code",
   "execution_count": 13,
   "id": "4d09a827-dfed-4af2-94d5-0986a1800b21",
   "metadata": {},
   "outputs": [
    {
     "data": {
      "text/plain": [
       "<AxesSubplot:>"
      ]
     },
     "execution_count": 13,
     "metadata": {},
     "output_type": "execute_result"
    },
    {
     "data": {
      "image/png": "[encoded data removed]",
      "text/plain": [
       "<Figure size 432x288 with 2 Axes>"
      ]
     },
     "metadata": {
      "needs_background": "light"
     },
     "output_type": "display_data"
    }
   ],
   "source": [
    "sns.heatmap(df.corr())"
   ]
  },
  {
   "cell_type": "markdown",
   "id": "51d93090",
   "metadata": {},
   "source": [
    "No variables are highly correlated to each other or target variable"
   ]
  },
  {
   "cell_type": "code",
   "execution_count": 14,
   "id": "d34029d8-59a3-4954-9dd1-0cfde0ddde3a",
   "metadata": {},
   "outputs": [
    {
     "data": {
      "text/html": [
       "<div>\n",
       "<style scoped>\n",
       "    .dataframe tbody tr th:only-of-type {\n",
       "        vertical-align: middle;\n",
       "    }\n",
       "\n",
       "    .dataframe tbody tr th {\n",
       "        vertical-align: top;\n",
       "    }\n",
       "\n",
       "    .dataframe thead th {\n",
       "        text-align: right;\n",
       "    }\n",
       "</style>\n",
       "<table border=\"1\" class=\"dataframe\">\n",
       "  <thead>\n",
       "    <tr style=\"text-align: right;\">\n",
       "      <th></th>\n",
       "      <th>VIF</th>\n",
       "      <th>variable</th>\n",
       "    </tr>\n",
       "  </thead>\n",
       "  <tbody>\n",
       "    <tr>\n",
       "      <th>0</th>\n",
       "      <td>79.925855</td>\n",
       "      <td>Intercept</td>\n",
       "    </tr>\n",
       "    <tr>\n",
       "      <th>1</th>\n",
       "      <td>1.001006</td>\n",
       "      <td>CreditScore</td>\n",
       "    </tr>\n",
       "    <tr>\n",
       "      <th>2</th>\n",
       "      <td>1.008329</td>\n",
       "      <td>Age</td>\n",
       "    </tr>\n",
       "    <tr>\n",
       "      <th>3</th>\n",
       "      <td>1.001817</td>\n",
       "      <td>Tenure</td>\n",
       "    </tr>\n",
       "    <tr>\n",
       "      <th>4</th>\n",
       "      <td>1.103253</td>\n",
       "      <td>Balance</td>\n",
       "    </tr>\n",
       "    <tr>\n",
       "      <th>5</th>\n",
       "      <td>1.103543</td>\n",
       "      <td>NumOfProducts</td>\n",
       "    </tr>\n",
       "    <tr>\n",
       "      <th>6</th>\n",
       "      <td>1.001160</td>\n",
       "      <td>HasCrCard</td>\n",
       "    </tr>\n",
       "    <tr>\n",
       "      <th>7</th>\n",
       "      <td>1.008801</td>\n",
       "      <td>IsActiveMember</td>\n",
       "    </tr>\n",
       "    <tr>\n",
       "      <th>8</th>\n",
       "      <td>1.000906</td>\n",
       "      <td>EstimatedSalary</td>\n",
       "    </tr>\n",
       "  </tbody>\n",
       "</table>\n",
       "</div>"
      ],
      "text/plain": [
       "         VIF         variable\n",
       "0  79.925855        Intercept\n",
       "1   1.001006      CreditScore\n",
       "2   1.008329              Age\n",
       "3   1.001817           Tenure\n",
       "4   1.103253          Balance\n",
       "5   1.103543    NumOfProducts\n",
       "6   1.001160        HasCrCard\n",
       "7   1.008801   IsActiveMember\n",
       "8   1.000906  EstimatedSalary"
      ]
     },
     "execution_count": 14,
     "metadata": {},
     "output_type": "execute_result"
    }
   ],
   "source": [
    "y, X = dmatrices('Exited ~ CreditScore+Age+Tenure+Balance+NumOfProducts+HasCrCard+IsActiveMember+EstimatedSalary', \n",
    "                 data=df, return_type='dataframe')\n",
    "vif = pd.DataFrame()\n",
    "vif['VIF'] = [variance_inflation_factor(X.values, i) for i in range(X.shape[1])]\n",
    "vif['variable'] = X.columns\n",
    "vif"
   ]
  },
  {
   "cell_type": "markdown",
   "id": "5880ecf8",
   "metadata": {},
   "source": [
    "There is no high VIF value, second check on potential data leakage issue numerically. But thinking from a business domain point of view is that IsActiveMember shouldn't it be the same as whether customer churned or not?"
   ]
  },
  {
   "cell_type": "markdown",
   "id": "3e8f9b70-7275-4bd0-8379-614d9a79113a",
   "metadata": {},
   "source": [
    "### Imbalanced Data"
   ]
  },
  {
   "cell_type": "code",
   "execution_count": 15,
   "id": "0044f4b2-0a08-49a3-a8cb-4b908fd89a80",
   "metadata": {},
   "outputs": [
    {
     "name": "stdout",
     "output_type": "stream",
     "text": [
      "0.25580811252040686\n"
     ]
    },
    {
     "data": {
      "text/plain": [
       "<AxesSubplot:>"
      ]
     },
     "execution_count": 15,
     "metadata": {},
     "output_type": "execute_result"
    },
    {
     "data": {
      "image/png": "[encoded data removed]",
      "text/plain": [
       "<Figure size 432x288 with 1 Axes>"
      ]
     },
     "metadata": {
      "needs_background": "light"
     },
     "output_type": "display_data"
    }
   ],
   "source": [
    "print(df['Exited'].value_counts()[1]/df['Exited'].value_counts()[0])\n",
    "df['Exited'].value_counts().plot.bar()"
   ]
  },
  {
   "cell_type": "markdown",
   "id": "a75defd8-899c-4ade-aa88-8d03cfe97d9d",
   "metadata": {},
   "source": [
    "Ratio of 1:4 for relatively small sample, need to consider it for the model to be used"
   ]
  },
  {
   "cell_type": "markdown",
   "id": "dba1be83",
   "metadata": {},
   "source": [
    "### Regional Segments"
   ]
  },
  {
   "cell_type": "code",
   "execution_count": 16,
   "id": "40ef3bc9",
   "metadata": {},
   "outputs": [
    {
     "data": {
      "text/html": [
       "<div>\n",
       "<style scoped>\n",
       "    .dataframe tbody tr th:only-of-type {\n",
       "        vertical-align: middle;\n",
       "    }\n",
       "\n",
       "    .dataframe tbody tr th {\n",
       "        vertical-align: top;\n",
       "    }\n",
       "\n",
       "    .dataframe thead th {\n",
       "        text-align: right;\n",
       "    }\n",
       "</style>\n",
       "<table border=\"1\" class=\"dataframe\">\n",
       "  <thead>\n",
       "    <tr style=\"text-align: right;\">\n",
       "      <th></th>\n",
       "      <th>Geography</th>\n",
       "      <th>Exited</th>\n",
       "      <th>CustomerId</th>\n",
       "    </tr>\n",
       "  </thead>\n",
       "  <tbody>\n",
       "    <tr>\n",
       "      <th>0</th>\n",
       "      <td>France</td>\n",
       "      <td>0</td>\n",
       "      <td>4204</td>\n",
       "    </tr>\n",
       "    <tr>\n",
       "      <th>1</th>\n",
       "      <td>France</td>\n",
       "      <td>1</td>\n",
       "      <td>810</td>\n",
       "    </tr>\n",
       "    <tr>\n",
       "      <th>2</th>\n",
       "      <td>Germany</td>\n",
       "      <td>0</td>\n",
       "      <td>1695</td>\n",
       "    </tr>\n",
       "    <tr>\n",
       "      <th>3</th>\n",
       "      <td>Germany</td>\n",
       "      <td>1</td>\n",
       "      <td>814</td>\n",
       "    </tr>\n",
       "    <tr>\n",
       "      <th>4</th>\n",
       "      <td>Spain</td>\n",
       "      <td>0</td>\n",
       "      <td>2064</td>\n",
       "    </tr>\n",
       "    <tr>\n",
       "      <th>5</th>\n",
       "      <td>Spain</td>\n",
       "      <td>1</td>\n",
       "      <td>413</td>\n",
       "    </tr>\n",
       "  </tbody>\n",
       "</table>\n",
       "</div>"
      ],
      "text/plain": [
       "  Geography  Exited  CustomerId\n",
       "0    France       0        4204\n",
       "1    France       1         810\n",
       "2   Germany       0        1695\n",
       "3   Germany       1         814\n",
       "4     Spain       0        2064\n",
       "5     Spain       1         413"
      ]
     },
     "execution_count": 16,
     "metadata": {},
     "output_type": "execute_result"
    }
   ],
   "source": [
    "seg = df.groupby(['Geography', 'Exited'])['CustomerId'].count().reset_index()\n",
    "seg"
   ]
  },
  {
   "cell_type": "markdown",
   "id": "8799976a",
   "metadata": {},
   "source": [
    "- France and Spain 1:5 ratio\n",
    "- Germany 1:2 ratio\n",
    "\n",
    "Might consider country specific"
   ]
  },
  {
   "cell_type": "markdown",
   "id": "b8618bcc",
   "metadata": {},
   "source": [
    "### Wrangling"
   ]
  },
  {
   "cell_type": "code",
   "execution_count": 39,
   "id": "26c03566",
   "metadata": {},
   "outputs": [],
   "source": [
    "X = df.drop(['Exited'], axis = 1)\n",
    "y = df['Exited']"
   ]
  },
  {
   "cell_type": "code",
   "execution_count": 40,
   "id": "ace06d56",
   "metadata": {},
   "outputs": [
    {
     "name": "stdout",
     "output_type": "stream",
     "text": [
      "RowNumber          10000\n",
      "CustomerId         10000\n",
      "Surname            10000\n",
      "CreditScore         9997\n",
      "Geography          10000\n",
      "Gender             10000\n",
      "Age                10000\n",
      "Tenure             10000\n",
      "Balance            10000\n",
      "NumOfProducts      10000\n",
      "HasCrCard          10000\n",
      "IsActiveMember     10000\n",
      "EstimatedSalary    10000\n",
      "Exited             10000\n",
      "dtype: int64\n",
      "CreditScore        9989\n",
      "Geography          9989\n",
      "Gender             9989\n",
      "Age                9989\n",
      "Tenure             9989\n",
      "Balance            9989\n",
      "NumOfProducts      9989\n",
      "HasCrCard          9989\n",
      "IsActiveMember     9989\n",
      "EstimatedSalary    9989\n",
      "dtype: int64\n"
     ]
    }
   ],
   "source": [
    "print(df.count())\n",
    "X = X[\n",
    "    (X[\"Age\"] <= 85)\n",
    "    & (X[\"Tenure\"] < 12)\n",
    "    & (X[\"CreditScore\"] >= 350)\n",
    "    & (X[\"CreditScore\"] <= 850)\n",
    "].drop([\"RowNumber\", \"CustomerId\", \"Surname\", \"Gender\"], axis=1)\n",
    "print(X.count())\n"
   ]
  },
  {
   "cell_type": "code",
   "execution_count": 44,
   "id": "1bac9d3d",
   "metadata": {},
   "outputs": [
    {
     "data": {
      "text/plain": [
       "France     5008\n",
       "Germany    2508\n",
       "Spain      2473\n",
       "Name: Geography, dtype: int64"
      ]
     },
     "execution_count": 44,
     "metadata": {},
     "output_type": "execute_result"
    }
   ],
   "source": [
    "print(X['Geography'].value_counts())\n",
    "X['Geography'] = X['Geography'].apply(lambda x: 2 if x == 'France' else (0 if x == 'Spain' else 1))\n"
   ]
  },
  {
   "cell_type": "code",
   "execution_count": 41,
   "id": "4f8b283d",
   "metadata": {},
   "outputs": [],
   "source": [
    "X_G = X[X['Geography'] == 'Germany']\n",
    "X_F = X[X['Geography'] == 'France']\n",
    "X_S = X[X['Geography'] == 'Spain']"
   ]
  },
  {
   "cell_type": "markdown",
   "id": "dc464bf1-e7ce-464d-af42-32b950a762ad",
   "metadata": {},
   "source": [
    "# Features"
   ]
  },
  {
   "cell_type": "code",
   "execution_count": 20,
   "id": "db19916a",
   "metadata": {},
   "outputs": [
    {
     "name": "stdout",
     "output_type": "stream",
     "text": [
      "(9989, 11)\n"
     ]
    }
   ],
   "source": [
    "print(X.shape)"
   ]
  },
  {
   "cell_type": "markdown",
   "id": "69940266",
   "metadata": {},
   "source": [
    "There is a few features, should look into feature generation rather than a dimension reduction, but with consideration on the data leakage issue it may have with training vs testing split. Set up an auto feature engineering pipeline to try. \n",
    "\n",
    "https://primitives.featurelabs.com/"
   ]
  },
  {
   "cell_type": "code",
   "execution_count": 42,
   "id": "67ae31ed",
   "metadata": {},
   "outputs": [
    {
     "name": "stderr",
     "output_type": "stream",
     "text": [
      "/Users/atypicalmediocrity/opt/anaconda3/lib/python3.8/site-packages/featuretools/entityset/entityset.py:1571: UserWarning: index CustomerId not found in dataframe, creating new integer column\n",
      "  warnings.warn(\"index {} not found in dataframe, creating new \"\n",
      "/Users/atypicalmediocrity/opt/anaconda3/lib/python3.8/site-packages/featuretools/synthesis/deep_feature_synthesis.py:156: UserWarning: Only one dataframe in entityset, changing max_depth to 1 since deeper features cannot be created\n",
      "  warnings.warn(\"Only one dataframe in entityset, changing max_depth to \"\n"
     ]
    },
    {
     "data": {
      "text/html": [
       "<div>\n",
       "<style scoped>\n",
       "    .dataframe tbody tr th:only-of-type {\n",
       "        vertical-align: middle;\n",
       "    }\n",
       "\n",
       "    .dataframe tbody tr th {\n",
       "        vertical-align: top;\n",
       "    }\n",
       "\n",
       "    .dataframe thead th {\n",
       "        text-align: right;\n",
       "    }\n",
       "</style>\n",
       "<table border=\"1\" class=\"dataframe\">\n",
       "  <thead>\n",
       "    <tr style=\"text-align: right;\">\n",
       "      <th></th>\n",
       "      <th>CreditScore</th>\n",
       "      <th>Geography</th>\n",
       "      <th>Gender</th>\n",
       "      <th>Age</th>\n",
       "      <th>Tenure</th>\n",
       "      <th>Balance</th>\n",
       "      <th>NumOfProducts</th>\n",
       "      <th>HasCrCard</th>\n",
       "      <th>IsActiveMember</th>\n",
       "      <th>EstimatedSalary</th>\n",
       "      <th>...</th>\n",
       "      <th>EstimatedSalary * HasCrCard</th>\n",
       "      <th>EstimatedSalary * IsActiveMember</th>\n",
       "      <th>EstimatedSalary * NumOfProducts</th>\n",
       "      <th>EstimatedSalary * Tenure</th>\n",
       "      <th>HasCrCard * IsActiveMember</th>\n",
       "      <th>HasCrCard * NumOfProducts</th>\n",
       "      <th>HasCrCard * Tenure</th>\n",
       "      <th>IsActiveMember * NumOfProducts</th>\n",
       "      <th>IsActiveMember * Tenure</th>\n",
       "      <th>NumOfProducts * Tenure</th>\n",
       "    </tr>\n",
       "    <tr>\n",
       "      <th>CustomerId</th>\n",
       "      <th></th>\n",
       "      <th></th>\n",
       "      <th></th>\n",
       "      <th></th>\n",
       "      <th></th>\n",
       "      <th></th>\n",
       "      <th></th>\n",
       "      <th></th>\n",
       "      <th></th>\n",
       "      <th></th>\n",
       "      <th></th>\n",
       "      <th></th>\n",
       "      <th></th>\n",
       "      <th></th>\n",
       "      <th></th>\n",
       "      <th></th>\n",
       "      <th></th>\n",
       "      <th></th>\n",
       "      <th></th>\n",
       "      <th></th>\n",
       "      <th></th>\n",
       "    </tr>\n",
       "  </thead>\n",
       "  <tbody>\n",
       "    <tr>\n",
       "      <th>0</th>\n",
       "      <td>619.0</td>\n",
       "      <td>France</td>\n",
       "      <td>Female</td>\n",
       "      <td>42</td>\n",
       "      <td>2</td>\n",
       "      <td>0.00</td>\n",
       "      <td>1</td>\n",
       "      <td>1</td>\n",
       "      <td>1</td>\n",
       "      <td>101348.88</td>\n",
       "      <td>...</td>\n",
       "      <td>101348.88</td>\n",
       "      <td>101348.88</td>\n",
       "      <td>101348.88</td>\n",
       "      <td>202697.76</td>\n",
       "      <td>1.0</td>\n",
       "      <td>1.0</td>\n",
       "      <td>2.0</td>\n",
       "      <td>1.0</td>\n",
       "      <td>2.0</td>\n",
       "      <td>2.0</td>\n",
       "    </tr>\n",
       "    <tr>\n",
       "      <th>1</th>\n",
       "      <td>608.0</td>\n",
       "      <td>Spain</td>\n",
       "      <td>Female</td>\n",
       "      <td>41</td>\n",
       "      <td>1</td>\n",
       "      <td>83807.86</td>\n",
       "      <td>1</td>\n",
       "      <td>0</td>\n",
       "      <td>1</td>\n",
       "      <td>112542.58</td>\n",
       "      <td>...</td>\n",
       "      <td>0.00</td>\n",
       "      <td>112542.58</td>\n",
       "      <td>112542.58</td>\n",
       "      <td>112542.58</td>\n",
       "      <td>0.0</td>\n",
       "      <td>0.0</td>\n",
       "      <td>0.0</td>\n",
       "      <td>1.0</td>\n",
       "      <td>1.0</td>\n",
       "      <td>1.0</td>\n",
       "    </tr>\n",
       "    <tr>\n",
       "      <th>2</th>\n",
       "      <td>502.0</td>\n",
       "      <td>France</td>\n",
       "      <td>Female</td>\n",
       "      <td>42</td>\n",
       "      <td>8</td>\n",
       "      <td>159660.80</td>\n",
       "      <td>3</td>\n",
       "      <td>1</td>\n",
       "      <td>0</td>\n",
       "      <td>113931.57</td>\n",
       "      <td>...</td>\n",
       "      <td>113931.57</td>\n",
       "      <td>0.00</td>\n",
       "      <td>341794.71</td>\n",
       "      <td>911452.56</td>\n",
       "      <td>0.0</td>\n",
       "      <td>3.0</td>\n",
       "      <td>8.0</td>\n",
       "      <td>0.0</td>\n",
       "      <td>0.0</td>\n",
       "      <td>24.0</td>\n",
       "    </tr>\n",
       "    <tr>\n",
       "      <th>3</th>\n",
       "      <td>699.0</td>\n",
       "      <td>France</td>\n",
       "      <td>Female</td>\n",
       "      <td>39</td>\n",
       "      <td>1</td>\n",
       "      <td>0.00</td>\n",
       "      <td>2</td>\n",
       "      <td>0</td>\n",
       "      <td>0</td>\n",
       "      <td>93826.63</td>\n",
       "      <td>...</td>\n",
       "      <td>0.00</td>\n",
       "      <td>0.00</td>\n",
       "      <td>187653.26</td>\n",
       "      <td>93826.63</td>\n",
       "      <td>0.0</td>\n",
       "      <td>0.0</td>\n",
       "      <td>0.0</td>\n",
       "      <td>0.0</td>\n",
       "      <td>0.0</td>\n",
       "      <td>2.0</td>\n",
       "    </tr>\n",
       "    <tr>\n",
       "      <th>4</th>\n",
       "      <td>850.0</td>\n",
       "      <td>Spain</td>\n",
       "      <td>Female</td>\n",
       "      <td>43</td>\n",
       "      <td>2</td>\n",
       "      <td>125510.82</td>\n",
       "      <td>1</td>\n",
       "      <td>1</td>\n",
       "      <td>1</td>\n",
       "      <td>79084.10</td>\n",
       "      <td>...</td>\n",
       "      <td>79084.10</td>\n",
       "      <td>79084.10</td>\n",
       "      <td>79084.10</td>\n",
       "      <td>158168.20</td>\n",
       "      <td>1.0</td>\n",
       "      <td>1.0</td>\n",
       "      <td>2.0</td>\n",
       "      <td>1.0</td>\n",
       "      <td>2.0</td>\n",
       "      <td>2.0</td>\n",
       "    </tr>\n",
       "    <tr>\n",
       "      <th>...</th>\n",
       "      <td>...</td>\n",
       "      <td>...</td>\n",
       "      <td>...</td>\n",
       "      <td>...</td>\n",
       "      <td>...</td>\n",
       "      <td>...</td>\n",
       "      <td>...</td>\n",
       "      <td>...</td>\n",
       "      <td>...</td>\n",
       "      <td>...</td>\n",
       "      <td>...</td>\n",
       "      <td>...</td>\n",
       "      <td>...</td>\n",
       "      <td>...</td>\n",
       "      <td>...</td>\n",
       "      <td>...</td>\n",
       "      <td>...</td>\n",
       "      <td>...</td>\n",
       "      <td>...</td>\n",
       "      <td>...</td>\n",
       "      <td>...</td>\n",
       "    </tr>\n",
       "    <tr>\n",
       "      <th>9984</th>\n",
       "      <td>771.0</td>\n",
       "      <td>France</td>\n",
       "      <td>Male</td>\n",
       "      <td>39</td>\n",
       "      <td>5</td>\n",
       "      <td>0.00</td>\n",
       "      <td>2</td>\n",
       "      <td>1</td>\n",
       "      <td>0</td>\n",
       "      <td>96270.64</td>\n",
       "      <td>...</td>\n",
       "      <td>96270.64</td>\n",
       "      <td>0.00</td>\n",
       "      <td>192541.28</td>\n",
       "      <td>481353.20</td>\n",
       "      <td>0.0</td>\n",
       "      <td>2.0</td>\n",
       "      <td>5.0</td>\n",
       "      <td>0.0</td>\n",
       "      <td>0.0</td>\n",
       "      <td>10.0</td>\n",
       "    </tr>\n",
       "    <tr>\n",
       "      <th>9985</th>\n",
       "      <td>516.0</td>\n",
       "      <td>France</td>\n",
       "      <td>Male</td>\n",
       "      <td>35</td>\n",
       "      <td>10</td>\n",
       "      <td>57369.61</td>\n",
       "      <td>1</td>\n",
       "      <td>1</td>\n",
       "      <td>1</td>\n",
       "      <td>101699.77</td>\n",
       "      <td>...</td>\n",
       "      <td>101699.77</td>\n",
       "      <td>101699.77</td>\n",
       "      <td>101699.77</td>\n",
       "      <td>1016997.70</td>\n",
       "      <td>1.0</td>\n",
       "      <td>1.0</td>\n",
       "      <td>10.0</td>\n",
       "      <td>1.0</td>\n",
       "      <td>10.0</td>\n",
       "      <td>10.0</td>\n",
       "    </tr>\n",
       "    <tr>\n",
       "      <th>9986</th>\n",
       "      <td>709.0</td>\n",
       "      <td>France</td>\n",
       "      <td>Female</td>\n",
       "      <td>36</td>\n",
       "      <td>7</td>\n",
       "      <td>0.00</td>\n",
       "      <td>1</td>\n",
       "      <td>0</td>\n",
       "      <td>1</td>\n",
       "      <td>42085.58</td>\n",
       "      <td>...</td>\n",
       "      <td>0.00</td>\n",
       "      <td>42085.58</td>\n",
       "      <td>42085.58</td>\n",
       "      <td>294599.06</td>\n",
       "      <td>0.0</td>\n",
       "      <td>0.0</td>\n",
       "      <td>0.0</td>\n",
       "      <td>1.0</td>\n",
       "      <td>7.0</td>\n",
       "      <td>7.0</td>\n",
       "    </tr>\n",
       "    <tr>\n",
       "      <th>9987</th>\n",
       "      <td>772.0</td>\n",
       "      <td>Germany</td>\n",
       "      <td>Male</td>\n",
       "      <td>42</td>\n",
       "      <td>3</td>\n",
       "      <td>75075.31</td>\n",
       "      <td>2</td>\n",
       "      <td>1</td>\n",
       "      <td>0</td>\n",
       "      <td>92888.52</td>\n",
       "      <td>...</td>\n",
       "      <td>92888.52</td>\n",
       "      <td>0.00</td>\n",
       "      <td>185777.04</td>\n",
       "      <td>278665.56</td>\n",
       "      <td>0.0</td>\n",
       "      <td>2.0</td>\n",
       "      <td>3.0</td>\n",
       "      <td>0.0</td>\n",
       "      <td>0.0</td>\n",
       "      <td>6.0</td>\n",
       "    </tr>\n",
       "    <tr>\n",
       "      <th>9988</th>\n",
       "      <td>792.0</td>\n",
       "      <td>France</td>\n",
       "      <td>Female</td>\n",
       "      <td>28</td>\n",
       "      <td>4</td>\n",
       "      <td>130142.79</td>\n",
       "      <td>1</td>\n",
       "      <td>1</td>\n",
       "      <td>0</td>\n",
       "      <td>38190.78</td>\n",
       "      <td>...</td>\n",
       "      <td>38190.78</td>\n",
       "      <td>0.00</td>\n",
       "      <td>38190.78</td>\n",
       "      <td>152763.12</td>\n",
       "      <td>0.0</td>\n",
       "      <td>1.0</td>\n",
       "      <td>4.0</td>\n",
       "      <td>0.0</td>\n",
       "      <td>0.0</td>\n",
       "      <td>4.0</td>\n",
       "    </tr>\n",
       "  </tbody>\n",
       "</table>\n",
       "<p>9989 rows × 122 columns</p>\n",
       "</div>"
      ],
      "text/plain": [
       "            CreditScore Geography  Gender  Age  Tenure    Balance  \\\n",
       "CustomerId                                                          \n",
       "0                 619.0    France  Female   42       2       0.00   \n",
       "1                 608.0     Spain  Female   41       1   83807.86   \n",
       "2                 502.0    France  Female   42       8  159660.80   \n",
       "3                 699.0    France  Female   39       1       0.00   \n",
       "4                 850.0     Spain  Female   43       2  125510.82   \n",
       "...                 ...       ...     ...  ...     ...        ...   \n",
       "9984              771.0    France    Male   39       5       0.00   \n",
       "9985              516.0    France    Male   35      10   57369.61   \n",
       "9986              709.0    France  Female   36       7       0.00   \n",
       "9987              772.0   Germany    Male   42       3   75075.31   \n",
       "9988              792.0    France  Female   28       4  130142.79   \n",
       "\n",
       "            NumOfProducts  HasCrCard  IsActiveMember  EstimatedSalary  ...  \\\n",
       "CustomerId                                                             ...   \n",
       "0                       1          1               1        101348.88  ...   \n",
       "1                       1          0               1        112542.58  ...   \n",
       "2                       3          1               0        113931.57  ...   \n",
       "3                       2          0               0         93826.63  ...   \n",
       "4                       1          1               1         79084.10  ...   \n",
       "...                   ...        ...             ...              ...  ...   \n",
       "9984                    2          1               0         96270.64  ...   \n",
       "9985                    1          1               1        101699.77  ...   \n",
       "9986                    1          0               1         42085.58  ...   \n",
       "9987                    2          1               0         92888.52  ...   \n",
       "9988                    1          1               0         38190.78  ...   \n",
       "\n",
       "            EstimatedSalary * HasCrCard  EstimatedSalary * IsActiveMember  \\\n",
       "CustomerId                                                                  \n",
       "0                             101348.88                         101348.88   \n",
       "1                                  0.00                         112542.58   \n",
       "2                             113931.57                              0.00   \n",
       "3                                  0.00                              0.00   \n",
       "4                              79084.10                          79084.10   \n",
       "...                                 ...                               ...   \n",
       "9984                           96270.64                              0.00   \n",
       "9985                          101699.77                         101699.77   \n",
       "9986                               0.00                          42085.58   \n",
       "9987                           92888.52                              0.00   \n",
       "9988                           38190.78                              0.00   \n",
       "\n",
       "            EstimatedSalary * NumOfProducts  EstimatedSalary * Tenure  \\\n",
       "CustomerId                                                              \n",
       "0                                 101348.88                 202697.76   \n",
       "1                                 112542.58                 112542.58   \n",
       "2                                 341794.71                 911452.56   \n",
       "3                                 187653.26                  93826.63   \n",
       "4                                  79084.10                 158168.20   \n",
       "...                                     ...                       ...   \n",
       "9984                              192541.28                 481353.20   \n",
       "9985                              101699.77                1016997.70   \n",
       "9986                               42085.58                 294599.06   \n",
       "9987                              185777.04                 278665.56   \n",
       "9988                               38190.78                 152763.12   \n",
       "\n",
       "            HasCrCard * IsActiveMember  HasCrCard * NumOfProducts  \\\n",
       "CustomerId                                                          \n",
       "0                                  1.0                        1.0   \n",
       "1                                  0.0                        0.0   \n",
       "2                                  0.0                        3.0   \n",
       "3                                  0.0                        0.0   \n",
       "4                                  1.0                        1.0   \n",
       "...                                ...                        ...   \n",
       "9984                               0.0                        2.0   \n",
       "9985                               1.0                        1.0   \n",
       "9986                               0.0                        0.0   \n",
       "9987                               0.0                        2.0   \n",
       "9988                               0.0                        1.0   \n",
       "\n",
       "            HasCrCard * Tenure  IsActiveMember * NumOfProducts  \\\n",
       "CustomerId                                                       \n",
       "0                          2.0                             1.0   \n",
       "1                          0.0                             1.0   \n",
       "2                          8.0                             0.0   \n",
       "3                          0.0                             0.0   \n",
       "4                          2.0                             1.0   \n",
       "...                        ...                             ...   \n",
       "9984                       5.0                             0.0   \n",
       "9985                      10.0                             1.0   \n",
       "9986                       0.0                             1.0   \n",
       "9987                       3.0                             0.0   \n",
       "9988                       4.0                             0.0   \n",
       "\n",
       "            IsActiveMember * Tenure  NumOfProducts * Tenure  \n",
       "CustomerId                                                   \n",
       "0                               2.0                     2.0  \n",
       "1                               1.0                     1.0  \n",
       "2                               0.0                    24.0  \n",
       "3                               0.0                     2.0  \n",
       "4                               2.0                     2.0  \n",
       "...                             ...                     ...  \n",
       "9984                            0.0                    10.0  \n",
       "9985                           10.0                    10.0  \n",
       "9986                            7.0                     7.0  \n",
       "9987                            0.0                     6.0  \n",
       "9988                            0.0                     4.0  \n",
       "\n",
       "[9989 rows x 122 columns]"
      ]
     },
     "execution_count": 42,
     "metadata": {},
     "output_type": "execute_result"
    }
   ],
   "source": [
    "def feature_gen(df):\n",
    "    entities = ft.EntitySet(id = 'all')\n",
    "    entities.add_dataframe(dataframe_name = 'customer', dataframe = df, make_index = False, index = 'CustomerId')\n",
    "\n",
    "    feature_matrix, feature_defs = ft.dfs(entityset = entities, target_dataframe_name = 'customer',\n",
    "                                          trans_primitives = ['add_numeric', 'multiply_numeric', \n",
    "                                                              'greater_than_equal_to']\n",
    "                                         )\n",
    "    return feature_matrix\n",
    "    \n",
    "X = feature_gen(X)\n",
    "X"
   ]
  },
  {
   "cell_type": "code",
   "execution_count": null,
   "id": "3f2a9d39-41e5-4d28-a095-4f50880a0772",
   "metadata": {},
   "outputs": [],
   "source": [
    "df['Bal_Prod'] = df['Balance']/df['NumOfProducts']\n",
    "df['Ten2Age'] = df['Tenure']/df['Age']\n",
    "df['Sal2Bal'] = df['Balance']/df['EstimatedSalary']"
   ]
  },
  {
   "cell_type": "markdown",
   "id": "653390b5-dbc7-475d-a03b-bce0cf7c70ff",
   "metadata": {},
   "source": [
    "### Preprocessing"
   ]
  },
  {
   "cell_type": "markdown",
   "id": "771f95bb-0e5e-4be6-8d69-c2acaab73a2c",
   "metadata": {},
   "source": [
    "Drop columns, and split dataset"
   ]
  },
  {
   "cell_type": "code",
   "execution_count": null,
   "id": "e7223136-e2b3-41fa-80da-d056eac0e8b2",
   "metadata": {},
   "outputs": [],
   "source": [
    "X = df.drop(['RowNumber', 'CustomerId', 'Surname', 'Exited'], axis = 1)\n",
    "y = df['Exited']\n",
    "X_train, X_test, y_train, y_test = train_test_split(X, y, test_size = 0.3, random_state=0)\n"
   ]
  },
  {
   "cell_type": "code",
   "execution_count": null,
   "id": "eb1f6477-93ea-4338-8411-8c38ab7f1c8c",
   "metadata": {},
   "outputs": [],
   "source": [
    "print(y_train.value_counts())\n",
    "print(y_test.value_counts())"
   ]
  },
  {
   "cell_type": "markdown",
   "id": "e76d29d9-a44a-4ea7-9489-6d48bdd546f1",
   "metadata": {},
   "source": [
    "Define preprocessing functions to be put into pipeline"
   ]
  },
  {
   "cell_type": "code",
   "execution_count": null,
   "id": "6e986399-9f2d-4ca6-a115-cf2895461115",
   "metadata": {},
   "outputs": [],
   "source": [
    "from imblearn.over_sampling import ADASYN\n",
    "from imblearn.combine import SMOTEENN \n",
    "from imblearn.under_sampling import ClusterCentroids \n",
    "adasyn = SMOTEENN(sampling_strategy = 0.5, random_state=0)\n",
    "# adasyn = ClusterCentroids(random_state=0)\n",
    "\n",
    "imputer = KNNImputer()"
   ]
  },
  {
   "cell_type": "markdown",
   "id": "494052b9-ba85-4693-9f74-136be2595dea",
   "metadata": {},
   "source": [
    "# Models\n",
    "Start with the most basic Logistic and RandomForest, low dimension data doesn't really need dim reduction"
   ]
  },
  {
   "cell_type": "code",
   "execution_count": null,
   "id": "5cf8ccb9-3617-4562-9a37-be10d92ce255",
   "metadata": {},
   "outputs": [],
   "source": [
    "from sklearn.ensemble import RandomForestClassifier, GradientBoostingClassifier\n",
    "from sklearn.linear_model import LogisticRegression\n",
    "import xgboost as xgb\n",
    "from sklearn import svm\n",
    "\n",
    "rf_param_grid = {\n",
    "#     \"adasyn__sampling_strategy\": [0.4, 0.5],\n",
    "#     \"adasyn__n_neighbors\": [4, 5, 6],\n",
    "    \"classifier__max_depth\": [6],\n",
    "    \"classifier__n_estimators\": [80],\n",
    "    \"classifier__learning_rate\": [0.05],\n",
    "    \"classifier__gamma\": [0.1]\n",
    "    }\n",
    "rf_classifier = xgb.XGBClassifier(max_depth= 6, n_estimators = 80, eval_metric=[\"error\", 'logloss'],\n",
    "                                           learning_rate = 0.05, gamma=0.1, random_state=0, \n",
    "                                  use_label_encoder = False)\n"
   ]
  },
  {
   "cell_type": "markdown",
   "id": "ae1610f2-5e50-4fae-afff-1ac9ef8eca30",
   "metadata": {},
   "source": [
    "Define pipeline "
   ]
  },
  {
   "cell_type": "code",
   "execution_count": null,
   "id": "95770bc3",
   "metadata": {},
   "outputs": [],
   "source": [
    "from sklearn.preprocessing import RobustScaler\n"
   ]
  },
  {
   "cell_type": "code",
   "execution_count": null,
   "id": "c0847854-fb31-4a1b-810d-5953184cc307",
   "metadata": {
    "tags": []
   },
   "outputs": [],
   "source": [
    "pipe2 = Pipeline(steps = [\n",
    "    ('scaler', RobustScaler()),\n",
    "    ('impute', imputer), \n",
    "    ('adasyn', adasyn),\n",
    "    ('classifier', rf_classifier)\n",
    "                        ]\n",
    "               )"
   ]
  },
  {
   "cell_type": "code",
   "execution_count": null,
   "id": "058f89a7-4f88-4c80-8305-27ffcade792d",
   "metadata": {},
   "outputs": [],
   "source": [
    "mod2 = GridSearchCV(pipe2, rf_param_grid, cv = 5, \n",
    "                    refit = 'recall', \n",
    "                    scoring='recall'\n",
    "                   )\n"
   ]
  },
  {
   "cell_type": "code",
   "execution_count": null,
   "id": "5c7ae665-8872-49e5-84fc-0b4feb3b18fd",
   "metadata": {},
   "outputs": [],
   "source": [
    "print(mod2.fit(X_train, y_train))"
   ]
  },
  {
   "cell_type": "code",
   "execution_count": null,
   "id": "e3fb4a96-59f0-4fb3-b055-5286588edcab",
   "metadata": {},
   "outputs": [],
   "source": [
    "mod2.best_estimator_\n",
    "print(mod2.best_estimator_.get_params()['adasyn'])\n",
    "mod2.best_estimator_.get_params()['classifier']"
   ]
  },
  {
   "cell_type": "code",
   "execution_count": null,
   "id": "962cb6e2-4c0a-402a-90bc-cb5e332f0001",
   "metadata": {},
   "outputs": [],
   "source": [
    "from sklearn.metrics import f1_score, accuracy_score\n",
    "\n",
    "print('recall')\n",
    "print(mod2.score(X_test, y_test))\n",
    "\n",
    "print('accuracy')\n",
    "print(accuracy_score(y_test, mod2.predict(X_test)))\n",
    "\n",
    "print(f1_score(y_train, mod2.predict(X_train)))\n",
    "print(f1_score(y_test, mod2.predict(X_test)))\n",
    "#0.6265060240963856"
   ]
  },
  {
   "cell_type": "code",
   "execution_count": null,
   "id": "3c4d3add-19c1-4903-bb52-79ed8c37008c",
   "metadata": {},
   "outputs": [],
   "source": [
    "from sklearn.metrics import confusion_matrix\n",
    "print(confusion_matrix(y_train, mod2.predict(X_train)))\n",
    "print(confusion_matrix(y_test, mod2.predict(X_test)))"
   ]
  },
  {
   "cell_type": "code",
   "execution_count": null,
   "id": "b94cfa0d-8658-4767-aac0-658287355141",
   "metadata": {},
   "outputs": [],
   "source": [
    "from sklearn.metrics import classification_report\n",
    "print(classification_report(y_test, mod2.predict(X_test), output_dict = True))\n"
   ]
  },
  {
   "cell_type": "code",
   "execution_count": null,
   "id": "a5c2f915-a52e-48d0-a20d-eac51bf83f9e",
   "metadata": {},
   "outputs": [],
   "source": [
    "mod2.cv_results_['mean_test_score']"
   ]
  },
  {
   "cell_type": "code",
   "execution_count": null,
   "id": "ba015bc8",
   "metadata": {},
   "outputs": [],
   "source": [
    "from sklearn.metrics import PrecisionRecallDisplay\n",
    "\n",
    "display = PrecisionRecallDisplay.from_estimator(\n",
    "    mod2.best_estimator_.get_params()['classifier'], X_test, y_test, name=\"classifier\"\n",
    ")\n",
    "_ = display.ax_.set_title(\"2-class Precision-Recall curve\")\n"
   ]
  },
  {
   "cell_type": "code",
   "execution_count": null,
   "id": "a2033854",
   "metadata": {},
   "outputs": [],
   "source": [
    "display = PrecisionRecallDisplay.from_estimator(\n",
    "    mod2.best_estimator_.get_params()['classifier'], X_train, y_train, name=\"classifier\"\n",
    ")\n",
    "_ = display.ax_.set_title(\"2-class Precision-Recall curve\")\n"
   ]
  },
  {
   "cell_type": "code",
   "execution_count": null,
   "id": "2bd3bee1-a2aa-4d4b-a372-6da672efe1c9",
   "metadata": {},
   "outputs": [],
   "source": [
    "feat_importance = pd.DataFrame(mod2.best_estimator_.named_steps['classifier'].feature_importances_).T\n",
    "feat_importance.columns = X_train.columns\n",
    "feat_importance"
   ]
  },
  {
   "cell_type": "code",
   "execution_count": null,
   "id": "41e02a26-256d-4848-a000-9f92e95df7a2",
   "metadata": {
    "scrolled": false
   },
   "outputs": [],
   "source": [
    "# train a model with single tree\n",
    "import numpy as np\n",
    "Xd = xgb.DMatrix(X_train, label=y_train)\n",
    "Xt = xgb.DMatrix(X_test, label=y_test)\n",
    "\n",
    "params = {\n",
    "    \"eta\": 0.5,\n",
    "    \"max_depth\": 7,\n",
    "    \"objective\": \"binary:logistic\",\n",
    "    \"silent\": 1,\n",
    "    \"base_score\": np.mean(y_train),\n",
    "    \"eval_metric\": [\"logloss\", \"error\"],\n",
    "    \"learning_rate\": 0.3,\n",
    "    \"sampling_method\": 'gradient_based'\n",
    "}\n",
    "\n",
    "model = xgb.train(params, Xd, 1, \n",
    "                  [(Xd, \"train\"), (Xt, \"valid\")], early_stopping_rounds=5\n",
    "                 )\n",
    "print(\"Model error =\", np.linalg.norm(y_train-model.predict(Xd)))\n",
    "print(model.get_dump(with_stats=True)[0])"
   ]
  },
  {
   "cell_type": "code",
   "execution_count": null,
   "id": "76614314",
   "metadata": {},
   "outputs": [],
   "source": [
    "import shap\n",
    "pred = model.predict(Xd, output_margin=True)\n",
    "explainer = shap.TreeExplainer(model)\n",
    "shap_values = explainer.shap_values(Xd)\n",
    "np.abs(shap_values.sum(1) + explainer.expected_value - pred).max()"
   ]
  },
  {
   "cell_type": "code",
   "execution_count": null,
   "id": "a0f55fa1",
   "metadata": {},
   "outputs": [],
   "source": [
    "shap.summary_plot(shap_values, X_train)\n"
   ]
  },
  {
   "cell_type": "code",
   "execution_count": null,
   "id": "920ea0ae",
   "metadata": {},
   "outputs": [],
   "source": []
  }
 ],
 "metadata": {
  "kernelspec": {
   "display_name": "Python 3",
   "language": "python",
   "name": "python3"
  },
  "language_info": {
   "codemirror_mode": {
    "name": "ipython",
    "version": 3
   },
   "file_extension": ".py",
   "mimetype": "text/x-python",
   "name": "python",
   "nbconvert_exporter": "python",
   "pygments_lexer": "ipython3",
   "version": "3.8.8"
  }
 },
 "nbformat": 4,
 "nbformat_minor": 5
}
