{
 "cells": [
  {
   "cell_type": "code",
   "execution_count": 1,
   "id": "fd2b700c-2258-48f0-8f13-c94e76264c01",
   "metadata": {
    "tags": []
   },
   "outputs": [],
   "source": [
    "import pandas as pd\n",
    "from geopy.geocoders import Nominatim\n",
    "from sklearn.model_selection import train_test_split\n",
    "from sklearn.preprocessing import MinMaxScaler\n",
    "from sklearn.preprocessing import OneHotEncoder\n",
    "from sklearn.impute import SimpleImputer, KNNImputer\n",
    "from statsmodels.stats.outliers_influence import variance_inflation_factor\n",
    "from patsy import dmatrices\n",
    "# from sklearn.pipeline import Pipeline\n",
    "from sklearn.model_selection import cross_val_score\n",
    "from sklearn.model_selection import GridSearchCV\n",
    "from sklearn.model_selection import KFold\n",
    "from sklearn.compose import ColumnTransformer\n",
    "from sklearn import feature_selection\n",
    "from sklearn import model_selection\n",
    "from sklearn import metrics\n",
    "from sklearn.metrics import classification_report, precision_recall_curve\n",
    "from sklearn.metrics import auc, roc_auc_score, roc_curve\n",
    "from imblearn.over_sampling import ADASYN\n",
    "from imblearn.pipeline import Pipeline"
   ]
  },
  {
   "cell_type": "markdown",
   "id": "38438788-24a3-4ec1-9372-5b501ab5e6e1",
   "metadata": {},
   "source": [
    "# Data"
   ]
  },
  {
   "cell_type": "code",
   "execution_count": 2,
   "id": "792bb521-46c5-489b-a5d1-6bc26aa3253f",
   "metadata": {},
   "outputs": [],
   "source": [
    "df = pd.read_csv('Churn Modeling.csv')"
   ]
  },
  {
   "cell_type": "markdown",
   "id": "ca40b952-04bc-4a73-95fa-cb730b19637b",
   "metadata": {},
   "source": [
    "### Data types to consider for encoding methods and which columns are unnecessary"
   ]
  },
  {
   "cell_type": "code",
   "execution_count": 3,
   "id": "842b0283-d570-491d-b1c8-dad1ffb7bc2b",
   "metadata": {},
   "outputs": [
    {
     "data": {
      "text/plain": [
       "RowNumber            int64\n",
       "CustomerId           int64\n",
       "Surname             object\n",
       "CreditScore        float64\n",
       "Geography           object\n",
       "Gender              object\n",
       "Age                  int64\n",
       "Tenure               int64\n",
       "Balance            float64\n",
       "NumOfProducts        int64\n",
       "HasCrCard            int64\n",
       "IsActiveMember       int64\n",
       "EstimatedSalary    float64\n",
       "Exited               int64\n",
       "dtype: object"
      ]
     },
     "execution_count": 3,
     "metadata": {},
     "output_type": "execute_result"
    }
   ],
   "source": [
    "df.dtypes"
   ]
  },
  {
   "cell_type": "code",
   "execution_count": 4,
   "id": "ab81da81-42ca-42f0-bc84-11603d2e2a96",
   "metadata": {},
   "outputs": [
    {
     "data": {
      "text/html": [
       "<div>\n",
       "<style scoped>\n",
       "    .dataframe tbody tr th:only-of-type {\n",
       "        vertical-align: middle;\n",
       "    }\n",
       "\n",
       "    .dataframe tbody tr th {\n",
       "        vertical-align: top;\n",
       "    }\n",
       "\n",
       "    .dataframe thead th {\n",
       "        text-align: right;\n",
       "    }\n",
       "</style>\n",
       "<table border=\"1\" class=\"dataframe\">\n",
       "  <thead>\n",
       "    <tr style=\"text-align: right;\">\n",
       "      <th></th>\n",
       "      <th>RowNumber</th>\n",
       "      <th>CustomerId</th>\n",
       "      <th>Surname</th>\n",
       "      <th>CreditScore</th>\n",
       "      <th>Geography</th>\n",
       "      <th>Gender</th>\n",
       "      <th>Age</th>\n",
       "      <th>Tenure</th>\n",
       "      <th>Balance</th>\n",
       "      <th>NumOfProducts</th>\n",
       "      <th>HasCrCard</th>\n",
       "      <th>IsActiveMember</th>\n",
       "      <th>EstimatedSalary</th>\n",
       "      <th>Exited</th>\n",
       "    </tr>\n",
       "  </thead>\n",
       "  <tbody>\n",
       "    <tr>\n",
       "      <th>0</th>\n",
       "      <td>1</td>\n",
       "      <td>15634602</td>\n",
       "      <td>Hargrave</td>\n",
       "      <td>619.0</td>\n",
       "      <td>France</td>\n",
       "      <td>Female</td>\n",
       "      <td>42</td>\n",
       "      <td>2</td>\n",
       "      <td>0.00</td>\n",
       "      <td>1</td>\n",
       "      <td>1</td>\n",
       "      <td>1</td>\n",
       "      <td>101348.88</td>\n",
       "      <td>1</td>\n",
       "    </tr>\n",
       "    <tr>\n",
       "      <th>1</th>\n",
       "      <td>2</td>\n",
       "      <td>15647311</td>\n",
       "      <td>Hill</td>\n",
       "      <td>608.0</td>\n",
       "      <td>Spain</td>\n",
       "      <td>Female</td>\n",
       "      <td>41</td>\n",
       "      <td>1</td>\n",
       "      <td>83807.86</td>\n",
       "      <td>1</td>\n",
       "      <td>0</td>\n",
       "      <td>1</td>\n",
       "      <td>112542.58</td>\n",
       "      <td>0</td>\n",
       "    </tr>\n",
       "    <tr>\n",
       "      <th>2</th>\n",
       "      <td>3</td>\n",
       "      <td>15619304</td>\n",
       "      <td>Onio</td>\n",
       "      <td>502.0</td>\n",
       "      <td>France</td>\n",
       "      <td>Female</td>\n",
       "      <td>42</td>\n",
       "      <td>8</td>\n",
       "      <td>159660.80</td>\n",
       "      <td>3</td>\n",
       "      <td>1</td>\n",
       "      <td>0</td>\n",
       "      <td>113931.57</td>\n",
       "      <td>1</td>\n",
       "    </tr>\n",
       "    <tr>\n",
       "      <th>3</th>\n",
       "      <td>4</td>\n",
       "      <td>15701354</td>\n",
       "      <td>Boni</td>\n",
       "      <td>699.0</td>\n",
       "      <td>France</td>\n",
       "      <td>Female</td>\n",
       "      <td>39</td>\n",
       "      <td>1</td>\n",
       "      <td>0.00</td>\n",
       "      <td>2</td>\n",
       "      <td>0</td>\n",
       "      <td>0</td>\n",
       "      <td>93826.63</td>\n",
       "      <td>0</td>\n",
       "    </tr>\n",
       "    <tr>\n",
       "      <th>4</th>\n",
       "      <td>5</td>\n",
       "      <td>15737888</td>\n",
       "      <td>Mitchell</td>\n",
       "      <td>850.0</td>\n",
       "      <td>Spain</td>\n",
       "      <td>Female</td>\n",
       "      <td>43</td>\n",
       "      <td>2</td>\n",
       "      <td>125510.82</td>\n",
       "      <td>1</td>\n",
       "      <td>1</td>\n",
       "      <td>1</td>\n",
       "      <td>79084.10</td>\n",
       "      <td>0</td>\n",
       "    </tr>\n",
       "  </tbody>\n",
       "</table>\n",
       "</div>"
      ],
      "text/plain": [
       "   RowNumber  CustomerId   Surname  CreditScore Geography  Gender  Age  \\\n",
       "0          1    15634602  Hargrave        619.0    France  Female   42   \n",
       "1          2    15647311      Hill        608.0     Spain  Female   41   \n",
       "2          3    15619304      Onio        502.0    France  Female   42   \n",
       "3          4    15701354      Boni        699.0    France  Female   39   \n",
       "4          5    15737888  Mitchell        850.0     Spain  Female   43   \n",
       "\n",
       "   Tenure    Balance  NumOfProducts  HasCrCard  IsActiveMember  \\\n",
       "0       2       0.00              1          1               1   \n",
       "1       1   83807.86              1          0               1   \n",
       "2       8  159660.80              3          1               0   \n",
       "3       1       0.00              2          0               0   \n",
       "4       2  125510.82              1          1               1   \n",
       "\n",
       "   EstimatedSalary  Exited  \n",
       "0        101348.88       1  \n",
       "1        112542.58       0  \n",
       "2        113931.57       1  \n",
       "3         93826.63       0  \n",
       "4         79084.10       0  "
      ]
     },
     "execution_count": 4,
     "metadata": {},
     "output_type": "execute_result"
    }
   ],
   "source": [
    "df.head()"
   ]
  },
  {
   "cell_type": "markdown",
   "id": "19198f16-ddc4-454b-8373-9c59b91e22ef",
   "metadata": {},
   "source": [
    "Based on these available\n",
    "- RowNumber is not needed\n",
    "- CustomerId not needed for prediction \n",
    "- Surname should not matter for prediction\n",
    "- Unsure if Gender and Age can be used for prediction purpose due to compliance (assuming at least gender can't be used)"
   ]
  },
  {
   "cell_type": "markdown",
   "id": "f8a13003-787c-4b65-baae-b8f24f47354e",
   "metadata": {},
   "source": [
    "### Check counts with describe for nulls of numerical values"
   ]
  },
  {
   "cell_type": "code",
   "execution_count": 5,
   "id": "27aeaf60-99a5-45a9-9346-62434fc9152b",
   "metadata": {},
   "outputs": [
    {
     "data": {
      "text/html": [
       "<div>\n",
       "<style scoped>\n",
       "    .dataframe tbody tr th:only-of-type {\n",
       "        vertical-align: middle;\n",
       "    }\n",
       "\n",
       "    .dataframe tbody tr th {\n",
       "        vertical-align: top;\n",
       "    }\n",
       "\n",
       "    .dataframe thead th {\n",
       "        text-align: right;\n",
       "    }\n",
       "</style>\n",
       "<table border=\"1\" class=\"dataframe\">\n",
       "  <thead>\n",
       "    <tr style=\"text-align: right;\">\n",
       "      <th></th>\n",
       "      <th>RowNumber</th>\n",
       "      <th>CustomerId</th>\n",
       "      <th>CreditScore</th>\n",
       "      <th>Age</th>\n",
       "      <th>Tenure</th>\n",
       "      <th>Balance</th>\n",
       "      <th>NumOfProducts</th>\n",
       "      <th>HasCrCard</th>\n",
       "      <th>IsActiveMember</th>\n",
       "      <th>EstimatedSalary</th>\n",
       "      <th>Exited</th>\n",
       "    </tr>\n",
       "  </thead>\n",
       "  <tbody>\n",
       "    <tr>\n",
       "      <th>count</th>\n",
       "      <td>10000.00000</td>\n",
       "      <td>1.000000e+04</td>\n",
       "      <td>9997.000000</td>\n",
       "      <td>10000.000000</td>\n",
       "      <td>10000.000000</td>\n",
       "      <td>10000.000000</td>\n",
       "      <td>10000.000000</td>\n",
       "      <td>10000.00000</td>\n",
       "      <td>10000.000000</td>\n",
       "      <td>10000.000000</td>\n",
       "      <td>10000.000000</td>\n",
       "    </tr>\n",
       "    <tr>\n",
       "      <th>mean</th>\n",
       "      <td>5000.50000</td>\n",
       "      <td>1.569094e+07</td>\n",
       "      <td>650.496849</td>\n",
       "      <td>38.943500</td>\n",
       "      <td>5.015400</td>\n",
       "      <td>76485.889288</td>\n",
       "      <td>1.530200</td>\n",
       "      <td>0.70550</td>\n",
       "      <td>0.515100</td>\n",
       "      <td>100090.239881</td>\n",
       "      <td>0.203700</td>\n",
       "    </tr>\n",
       "    <tr>\n",
       "      <th>std</th>\n",
       "      <td>2886.89568</td>\n",
       "      <td>7.193619e+04</td>\n",
       "      <td>96.708600</td>\n",
       "      <td>10.613726</td>\n",
       "      <td>2.902931</td>\n",
       "      <td>62397.405202</td>\n",
       "      <td>0.581654</td>\n",
       "      <td>0.45584</td>\n",
       "      <td>0.499797</td>\n",
       "      <td>57510.492818</td>\n",
       "      <td>0.402769</td>\n",
       "    </tr>\n",
       "    <tr>\n",
       "      <th>min</th>\n",
       "      <td>1.00000</td>\n",
       "      <td>1.556570e+07</td>\n",
       "      <td>305.000000</td>\n",
       "      <td>18.000000</td>\n",
       "      <td>0.000000</td>\n",
       "      <td>0.000000</td>\n",
       "      <td>1.000000</td>\n",
       "      <td>0.00000</td>\n",
       "      <td>0.000000</td>\n",
       "      <td>11.580000</td>\n",
       "      <td>0.000000</td>\n",
       "    </tr>\n",
       "    <tr>\n",
       "      <th>25%</th>\n",
       "      <td>2500.75000</td>\n",
       "      <td>1.562853e+07</td>\n",
       "      <td>584.000000</td>\n",
       "      <td>32.000000</td>\n",
       "      <td>3.000000</td>\n",
       "      <td>0.000000</td>\n",
       "      <td>1.000000</td>\n",
       "      <td>0.00000</td>\n",
       "      <td>0.000000</td>\n",
       "      <td>51002.110000</td>\n",
       "      <td>0.000000</td>\n",
       "    </tr>\n",
       "    <tr>\n",
       "      <th>50%</th>\n",
       "      <td>5000.50000</td>\n",
       "      <td>1.569074e+07</td>\n",
       "      <td>652.000000</td>\n",
       "      <td>37.000000</td>\n",
       "      <td>5.000000</td>\n",
       "      <td>97198.540000</td>\n",
       "      <td>1.000000</td>\n",
       "      <td>1.00000</td>\n",
       "      <td>1.000000</td>\n",
       "      <td>100193.915000</td>\n",
       "      <td>0.000000</td>\n",
       "    </tr>\n",
       "    <tr>\n",
       "      <th>75%</th>\n",
       "      <td>7500.25000</td>\n",
       "      <td>1.575323e+07</td>\n",
       "      <td>718.000000</td>\n",
       "      <td>44.000000</td>\n",
       "      <td>7.250000</td>\n",
       "      <td>127644.240000</td>\n",
       "      <td>2.000000</td>\n",
       "      <td>1.00000</td>\n",
       "      <td>1.000000</td>\n",
       "      <td>149388.247500</td>\n",
       "      <td>0.000000</td>\n",
       "    </tr>\n",
       "    <tr>\n",
       "      <th>max</th>\n",
       "      <td>10000.00000</td>\n",
       "      <td>1.581569e+07</td>\n",
       "      <td>865.000000</td>\n",
       "      <td>190.000000</td>\n",
       "      <td>30.000000</td>\n",
       "      <td>250898.090000</td>\n",
       "      <td>4.000000</td>\n",
       "      <td>1.00000</td>\n",
       "      <td>1.000000</td>\n",
       "      <td>199992.480000</td>\n",
       "      <td>1.000000</td>\n",
       "    </tr>\n",
       "  </tbody>\n",
       "</table>\n",
       "</div>"
      ],
      "text/plain": [
       "         RowNumber    CustomerId  CreditScore           Age        Tenure  \\\n",
       "count  10000.00000  1.000000e+04  9997.000000  10000.000000  10000.000000   \n",
       "mean    5000.50000  1.569094e+07   650.496849     38.943500      5.015400   \n",
       "std     2886.89568  7.193619e+04    96.708600     10.613726      2.902931   \n",
       "min        1.00000  1.556570e+07   305.000000     18.000000      0.000000   \n",
       "25%     2500.75000  1.562853e+07   584.000000     32.000000      3.000000   \n",
       "50%     5000.50000  1.569074e+07   652.000000     37.000000      5.000000   \n",
       "75%     7500.25000  1.575323e+07   718.000000     44.000000      7.250000   \n",
       "max    10000.00000  1.581569e+07   865.000000    190.000000     30.000000   \n",
       "\n",
       "             Balance  NumOfProducts    HasCrCard  IsActiveMember  \\\n",
       "count   10000.000000   10000.000000  10000.00000    10000.000000   \n",
       "mean    76485.889288       1.530200      0.70550        0.515100   \n",
       "std     62397.405202       0.581654      0.45584        0.499797   \n",
       "min         0.000000       1.000000      0.00000        0.000000   \n",
       "25%         0.000000       1.000000      0.00000        0.000000   \n",
       "50%     97198.540000       1.000000      1.00000        1.000000   \n",
       "75%    127644.240000       2.000000      1.00000        1.000000   \n",
       "max    250898.090000       4.000000      1.00000        1.000000   \n",
       "\n",
       "       EstimatedSalary        Exited  \n",
       "count     10000.000000  10000.000000  \n",
       "mean     100090.239881      0.203700  \n",
       "std       57510.492818      0.402769  \n",
       "min          11.580000      0.000000  \n",
       "25%       51002.110000      0.000000  \n",
       "50%      100193.915000      0.000000  \n",
       "75%      149388.247500      0.000000  \n",
       "max      199992.480000      1.000000  "
      ]
     },
     "execution_count": 5,
     "metadata": {},
     "output_type": "execute_result"
    }
   ],
   "source": [
    "df.describe()\n",
    "#also checking if the ranges of values make sense or not to business"
   ]
  },
  {
   "cell_type": "code",
   "execution_count": 6,
   "id": "29685948-33cc-4aa7-b14f-3cd409f4c228",
   "metadata": {},
   "outputs": [
    {
     "name": "stdout",
     "output_type": "stream",
     "text": [
      "<class 'pandas.core.frame.DataFrame'>\n",
      "RangeIndex: 10000 entries, 0 to 9999\n",
      "Data columns (total 14 columns):\n",
      " #   Column           Non-Null Count  Dtype  \n",
      "---  ------           --------------  -----  \n",
      " 0   RowNumber        10000 non-null  int64  \n",
      " 1   CustomerId       10000 non-null  int64  \n",
      " 2   Surname          10000 non-null  object \n",
      " 3   CreditScore      9997 non-null   float64\n",
      " 4   Geography        10000 non-null  object \n",
      " 5   Gender           10000 non-null  object \n",
      " 6   Age              10000 non-null  int64  \n",
      " 7   Tenure           10000 non-null  int64  \n",
      " 8   Balance          10000 non-null  float64\n",
      " 9   NumOfProducts    10000 non-null  int64  \n",
      " 10  HasCrCard        10000 non-null  int64  \n",
      " 11  IsActiveMember   10000 non-null  int64  \n",
      " 12  EstimatedSalary  10000 non-null  float64\n",
      " 13  Exited           10000 non-null  int64  \n",
      "dtypes: float64(3), int64(8), object(3)\n",
      "memory usage: 1.1+ MB\n"
     ]
    }
   ],
   "source": [
    "df.info()"
   ]
  },
  {
   "cell_type": "code",
   "execution_count": 7,
   "id": "e7f7a041-3e16-4ea2-8945-8a442ad3025c",
   "metadata": {},
   "outputs": [
    {
     "name": "stdout",
     "output_type": "stream",
     "text": [
      "10000\n"
     ]
    },
    {
     "data": {
      "text/plain": [
       "France     5014\n",
       "Germany    2509\n",
       "Spain      2477\n",
       "Name: Geography, dtype: int64"
      ]
     },
     "execution_count": 7,
     "metadata": {},
     "output_type": "execute_result"
    }
   ],
   "source": [
    "print(df['Geography'].count())\n",
    "df['Geography'].value_counts()"
   ]
  },
  {
   "cell_type": "markdown",
   "id": "52b6495b-b931-470e-b86c-2b1a5b4c0a5c",
   "metadata": {},
   "source": [
    "There is only 3 missing value credit score, basic quality satisfied"
   ]
  },
  {
   "cell_type": "markdown",
   "id": "55395dc6-cf8d-45f5-bd73-92cc75cbda5a",
   "metadata": {},
   "source": [
    "### Check for correlations for multicolinearity and data leakage issue"
   ]
  },
  {
   "cell_type": "code",
   "execution_count": 8,
   "id": "4d09a827-dfed-4af2-94d5-0986a1800b21",
   "metadata": {},
   "outputs": [
    {
     "data": {
      "text/html": [
       "<div>\n",
       "<style scoped>\n",
       "    .dataframe tbody tr th:only-of-type {\n",
       "        vertical-align: middle;\n",
       "    }\n",
       "\n",
       "    .dataframe tbody tr th {\n",
       "        vertical-align: top;\n",
       "    }\n",
       "\n",
       "    .dataframe thead th {\n",
       "        text-align: right;\n",
       "    }\n",
       "</style>\n",
       "<table border=\"1\" class=\"dataframe\">\n",
       "  <thead>\n",
       "    <tr style=\"text-align: right;\">\n",
       "      <th></th>\n",
       "      <th>RowNumber</th>\n",
       "      <th>CustomerId</th>\n",
       "      <th>CreditScore</th>\n",
       "      <th>Age</th>\n",
       "      <th>Tenure</th>\n",
       "      <th>Balance</th>\n",
       "      <th>NumOfProducts</th>\n",
       "      <th>HasCrCard</th>\n",
       "      <th>IsActiveMember</th>\n",
       "      <th>EstimatedSalary</th>\n",
       "      <th>Exited</th>\n",
       "    </tr>\n",
       "  </thead>\n",
       "  <tbody>\n",
       "    <tr>\n",
       "      <th>RowNumber</th>\n",
       "      <td>1.000000</td>\n",
       "      <td>0.004202</td>\n",
       "      <td>0.006332</td>\n",
       "      <td>-0.000440</td>\n",
       "      <td>-0.008020</td>\n",
       "      <td>-0.009067</td>\n",
       "      <td>0.007246</td>\n",
       "      <td>0.000599</td>\n",
       "      <td>0.012044</td>\n",
       "      <td>-0.005988</td>\n",
       "      <td>-0.016571</td>\n",
       "    </tr>\n",
       "    <tr>\n",
       "      <th>CustomerId</th>\n",
       "      <td>0.004202</td>\n",
       "      <td>1.000000</td>\n",
       "      <td>0.005658</td>\n",
       "      <td>0.008627</td>\n",
       "      <td>-0.015261</td>\n",
       "      <td>-0.012419</td>\n",
       "      <td>0.016972</td>\n",
       "      <td>-0.014025</td>\n",
       "      <td>0.001665</td>\n",
       "      <td>0.015271</td>\n",
       "      <td>-0.006248</td>\n",
       "    </tr>\n",
       "    <tr>\n",
       "      <th>CreditScore</th>\n",
       "      <td>0.006332</td>\n",
       "      <td>0.005658</td>\n",
       "      <td>1.000000</td>\n",
       "      <td>-0.004118</td>\n",
       "      <td>-0.001960</td>\n",
       "      <td>0.006956</td>\n",
       "      <td>0.011966</td>\n",
       "      <td>-0.006044</td>\n",
       "      <td>0.025737</td>\n",
       "      <td>-0.002197</td>\n",
       "      <td>-0.027794</td>\n",
       "    </tr>\n",
       "    <tr>\n",
       "      <th>Age</th>\n",
       "      <td>-0.000440</td>\n",
       "      <td>0.008627</td>\n",
       "      <td>-0.004118</td>\n",
       "      <td>1.000000</td>\n",
       "      <td>-0.009025</td>\n",
       "      <td>0.025466</td>\n",
       "      <td>-0.028665</td>\n",
       "      <td>-0.013279</td>\n",
       "      <td>0.082351</td>\n",
       "      <td>-0.009181</td>\n",
       "      <td>0.280904</td>\n",
       "    </tr>\n",
       "    <tr>\n",
       "      <th>Tenure</th>\n",
       "      <td>-0.008020</td>\n",
       "      <td>-0.015261</td>\n",
       "      <td>-0.001960</td>\n",
       "      <td>-0.009025</td>\n",
       "      <td>1.000000</td>\n",
       "      <td>-0.011655</td>\n",
       "      <td>0.017197</td>\n",
       "      <td>0.023078</td>\n",
       "      <td>-0.029180</td>\n",
       "      <td>0.008055</td>\n",
       "      <td>-0.012178</td>\n",
       "    </tr>\n",
       "    <tr>\n",
       "      <th>Balance</th>\n",
       "      <td>-0.009067</td>\n",
       "      <td>-0.012419</td>\n",
       "      <td>0.006956</td>\n",
       "      <td>0.025466</td>\n",
       "      <td>-0.011655</td>\n",
       "      <td>1.000000</td>\n",
       "      <td>-0.304180</td>\n",
       "      <td>-0.014858</td>\n",
       "      <td>-0.010084</td>\n",
       "      <td>0.012797</td>\n",
       "      <td>0.118533</td>\n",
       "    </tr>\n",
       "    <tr>\n",
       "      <th>NumOfProducts</th>\n",
       "      <td>0.007246</td>\n",
       "      <td>0.016972</td>\n",
       "      <td>0.011966</td>\n",
       "      <td>-0.028665</td>\n",
       "      <td>0.017197</td>\n",
       "      <td>-0.304180</td>\n",
       "      <td>1.000000</td>\n",
       "      <td>0.003183</td>\n",
       "      <td>0.009612</td>\n",
       "      <td>0.014204</td>\n",
       "      <td>-0.047820</td>\n",
       "    </tr>\n",
       "    <tr>\n",
       "      <th>HasCrCard</th>\n",
       "      <td>0.000599</td>\n",
       "      <td>-0.014025</td>\n",
       "      <td>-0.006044</td>\n",
       "      <td>-0.013279</td>\n",
       "      <td>0.023078</td>\n",
       "      <td>-0.014858</td>\n",
       "      <td>0.003183</td>\n",
       "      <td>1.000000</td>\n",
       "      <td>-0.011866</td>\n",
       "      <td>-0.009933</td>\n",
       "      <td>-0.007138</td>\n",
       "    </tr>\n",
       "    <tr>\n",
       "      <th>IsActiveMember</th>\n",
       "      <td>0.012044</td>\n",
       "      <td>0.001665</td>\n",
       "      <td>0.025737</td>\n",
       "      <td>0.082351</td>\n",
       "      <td>-0.029180</td>\n",
       "      <td>-0.010084</td>\n",
       "      <td>0.009612</td>\n",
       "      <td>-0.011866</td>\n",
       "      <td>1.000000</td>\n",
       "      <td>-0.011421</td>\n",
       "      <td>-0.156128</td>\n",
       "    </tr>\n",
       "    <tr>\n",
       "      <th>EstimatedSalary</th>\n",
       "      <td>-0.005988</td>\n",
       "      <td>0.015271</td>\n",
       "      <td>-0.002197</td>\n",
       "      <td>-0.009181</td>\n",
       "      <td>0.008055</td>\n",
       "      <td>0.012797</td>\n",
       "      <td>0.014204</td>\n",
       "      <td>-0.009933</td>\n",
       "      <td>-0.011421</td>\n",
       "      <td>1.000000</td>\n",
       "      <td>0.012097</td>\n",
       "    </tr>\n",
       "    <tr>\n",
       "      <th>Exited</th>\n",
       "      <td>-0.016571</td>\n",
       "      <td>-0.006248</td>\n",
       "      <td>-0.027794</td>\n",
       "      <td>0.280904</td>\n",
       "      <td>-0.012178</td>\n",
       "      <td>0.118533</td>\n",
       "      <td>-0.047820</td>\n",
       "      <td>-0.007138</td>\n",
       "      <td>-0.156128</td>\n",
       "      <td>0.012097</td>\n",
       "      <td>1.000000</td>\n",
       "    </tr>\n",
       "  </tbody>\n",
       "</table>\n",
       "</div>"
      ],
      "text/plain": [
       "                 RowNumber  CustomerId  CreditScore       Age    Tenure  \\\n",
       "RowNumber         1.000000    0.004202     0.006332 -0.000440 -0.008020   \n",
       "CustomerId        0.004202    1.000000     0.005658  0.008627 -0.015261   \n",
       "CreditScore       0.006332    0.005658     1.000000 -0.004118 -0.001960   \n",
       "Age              -0.000440    0.008627    -0.004118  1.000000 -0.009025   \n",
       "Tenure           -0.008020   -0.015261    -0.001960 -0.009025  1.000000   \n",
       "Balance          -0.009067   -0.012419     0.006956  0.025466 -0.011655   \n",
       "NumOfProducts     0.007246    0.016972     0.011966 -0.028665  0.017197   \n",
       "HasCrCard         0.000599   -0.014025    -0.006044 -0.013279  0.023078   \n",
       "IsActiveMember    0.012044    0.001665     0.025737  0.082351 -0.029180   \n",
       "EstimatedSalary  -0.005988    0.015271    -0.002197 -0.009181  0.008055   \n",
       "Exited           -0.016571   -0.006248    -0.027794  0.280904 -0.012178   \n",
       "\n",
       "                  Balance  NumOfProducts  HasCrCard  IsActiveMember  \\\n",
       "RowNumber       -0.009067       0.007246   0.000599        0.012044   \n",
       "CustomerId      -0.012419       0.016972  -0.014025        0.001665   \n",
       "CreditScore      0.006956       0.011966  -0.006044        0.025737   \n",
       "Age              0.025466      -0.028665  -0.013279        0.082351   \n",
       "Tenure          -0.011655       0.017197   0.023078       -0.029180   \n",
       "Balance          1.000000      -0.304180  -0.014858       -0.010084   \n",
       "NumOfProducts   -0.304180       1.000000   0.003183        0.009612   \n",
       "HasCrCard       -0.014858       0.003183   1.000000       -0.011866   \n",
       "IsActiveMember  -0.010084       0.009612  -0.011866        1.000000   \n",
       "EstimatedSalary  0.012797       0.014204  -0.009933       -0.011421   \n",
       "Exited           0.118533      -0.047820  -0.007138       -0.156128   \n",
       "\n",
       "                 EstimatedSalary    Exited  \n",
       "RowNumber              -0.005988 -0.016571  \n",
       "CustomerId              0.015271 -0.006248  \n",
       "CreditScore            -0.002197 -0.027794  \n",
       "Age                    -0.009181  0.280904  \n",
       "Tenure                  0.008055 -0.012178  \n",
       "Balance                 0.012797  0.118533  \n",
       "NumOfProducts           0.014204 -0.047820  \n",
       "HasCrCard              -0.009933 -0.007138  \n",
       "IsActiveMember         -0.011421 -0.156128  \n",
       "EstimatedSalary         1.000000  0.012097  \n",
       "Exited                  0.012097  1.000000  "
      ]
     },
     "execution_count": 8,
     "metadata": {},
     "output_type": "execute_result"
    }
   ],
   "source": [
    "df.corr()"
   ]
  },
  {
   "cell_type": "code",
   "execution_count": 9,
   "id": "d34029d8-59a3-4954-9dd1-0cfde0ddde3a",
   "metadata": {},
   "outputs": [],
   "source": [
    "y, X = dmatrices('Exited ~ CreditScore+Age+Tenure+Balance+NumOfProducts+HasCrCard+IsActiveMember+EstimatedSalary', data=df, return_type='dataframe')\n"
   ]
  },
  {
   "cell_type": "code",
   "execution_count": 10,
   "id": "4c76ea95-e33f-4958-957d-24f15dd2b9b4",
   "metadata": {},
   "outputs": [
    {
     "data": {
      "text/html": [
       "<div>\n",
       "<style scoped>\n",
       "    .dataframe tbody tr th:only-of-type {\n",
       "        vertical-align: middle;\n",
       "    }\n",
       "\n",
       "    .dataframe tbody tr th {\n",
       "        vertical-align: top;\n",
       "    }\n",
       "\n",
       "    .dataframe thead th {\n",
       "        text-align: right;\n",
       "    }\n",
       "</style>\n",
       "<table border=\"1\" class=\"dataframe\">\n",
       "  <thead>\n",
       "    <tr style=\"text-align: right;\">\n",
       "      <th></th>\n",
       "      <th>VIF</th>\n",
       "      <th>variable</th>\n",
       "    </tr>\n",
       "  </thead>\n",
       "  <tbody>\n",
       "    <tr>\n",
       "      <th>0</th>\n",
       "      <td>79.925855</td>\n",
       "      <td>Intercept</td>\n",
       "    </tr>\n",
       "    <tr>\n",
       "      <th>1</th>\n",
       "      <td>1.001006</td>\n",
       "      <td>CreditScore</td>\n",
       "    </tr>\n",
       "    <tr>\n",
       "      <th>2</th>\n",
       "      <td>1.008329</td>\n",
       "      <td>Age</td>\n",
       "    </tr>\n",
       "    <tr>\n",
       "      <th>3</th>\n",
       "      <td>1.001817</td>\n",
       "      <td>Tenure</td>\n",
       "    </tr>\n",
       "    <tr>\n",
       "      <th>4</th>\n",
       "      <td>1.103253</td>\n",
       "      <td>Balance</td>\n",
       "    </tr>\n",
       "    <tr>\n",
       "      <th>5</th>\n",
       "      <td>1.103543</td>\n",
       "      <td>NumOfProducts</td>\n",
       "    </tr>\n",
       "    <tr>\n",
       "      <th>6</th>\n",
       "      <td>1.001160</td>\n",
       "      <td>HasCrCard</td>\n",
       "    </tr>\n",
       "    <tr>\n",
       "      <th>7</th>\n",
       "      <td>1.008801</td>\n",
       "      <td>IsActiveMember</td>\n",
       "    </tr>\n",
       "    <tr>\n",
       "      <th>8</th>\n",
       "      <td>1.000906</td>\n",
       "      <td>EstimatedSalary</td>\n",
       "    </tr>\n",
       "  </tbody>\n",
       "</table>\n",
       "</div>"
      ],
      "text/plain": [
       "         VIF         variable\n",
       "0  79.925855        Intercept\n",
       "1   1.001006      CreditScore\n",
       "2   1.008329              Age\n",
       "3   1.001817           Tenure\n",
       "4   1.103253          Balance\n",
       "5   1.103543    NumOfProducts\n",
       "6   1.001160        HasCrCard\n",
       "7   1.008801   IsActiveMember\n",
       "8   1.000906  EstimatedSalary"
      ]
     },
     "execution_count": 10,
     "metadata": {},
     "output_type": "execute_result"
    }
   ],
   "source": [
    "vif = pd.DataFrame()\n",
    "vif['VIF'] = [variance_inflation_factor(X.values, i) for i in range(X.shape[1])]\n",
    "vif['variable'] = X.columns\n",
    "vif"
   ]
  },
  {
   "cell_type": "markdown",
   "id": "c7969b63-4754-4c35-b162-fcc86a8767a5",
   "metadata": {},
   "source": [
    "There doesn't seem to be a leakage with a feature super correlated to Exited label especially IsActiveMember, which I thought would be highly correlated, but don't know if that is only because of nature of mock data. The VIF doesn't indicate there is multicolinearity issue"
   ]
  },
  {
   "cell_type": "markdown",
   "id": "3e8f9b70-7275-4bd0-8379-614d9a79113a",
   "metadata": {},
   "source": [
    "### Check for potential imbalanced data issue"
   ]
  },
  {
   "cell_type": "code",
   "execution_count": 11,
   "id": "0044f4b2-0a08-49a3-a8cb-4b908fd89a80",
   "metadata": {},
   "outputs": [
    {
     "name": "stdout",
     "output_type": "stream",
     "text": [
      "0.25580811252040686\n"
     ]
    },
    {
     "data": {
      "text/plain": [
       "0    7963\n",
       "1    2037\n",
       "Name: Exited, dtype: int64"
      ]
     },
     "execution_count": 11,
     "metadata": {},
     "output_type": "execute_result"
    }
   ],
   "source": [
    "print(df['Exited'].value_counts()[1]/df['Exited'].value_counts()[0])\n",
    "df['Exited'].value_counts()"
   ]
  },
  {
   "cell_type": "markdown",
   "id": "a75defd8-899c-4ade-aa88-8d03cfe97d9d",
   "metadata": {},
   "source": [
    "Although ideally it would have 1:1 but 1:4 is still relatively okay ratio and can use SMOTE and ADASYN"
   ]
  },
  {
   "cell_type": "markdown",
   "id": "dc464bf1-e7ce-464d-af42-32b950a762ad",
   "metadata": {},
   "source": [
    "# Features\n",
    "There are no time components so no time variant features"
   ]
  },
  {
   "cell_type": "code",
   "execution_count": 12,
   "id": "03c7e6e0-2d26-41dc-9b77-0e1c2fc7fd6c",
   "metadata": {},
   "outputs": [
    {
     "data": {
      "text/plain": [
       "Geography  Exited\n",
       "France     0          60339.275678\n",
       "           1          71192.795728\n",
       "Germany    0         119427.106696\n",
       "           1         120361.075590\n",
       "Spain      0          59678.070470\n",
       "           1          72513.352446\n",
       "Name: Balance, dtype: float64"
      ]
     },
     "execution_count": 12,
     "metadata": {},
     "output_type": "execute_result"
    }
   ],
   "source": [
    "df.groupby(['Geography', 'Exited'])['Balance'].mean()"
   ]
  },
  {
   "cell_type": "code",
   "execution_count": 13,
   "id": "47ec25ca-fe43-452f-8af7-cdbe66ae9c6a",
   "metadata": {},
   "outputs": [
    {
     "data": {
      "text/html": [
       "<div>\n",
       "<style scoped>\n",
       "    .dataframe tbody tr th:only-of-type {\n",
       "        vertical-align: middle;\n",
       "    }\n",
       "\n",
       "    .dataframe tbody tr th {\n",
       "        vertical-align: top;\n",
       "    }\n",
       "\n",
       "    .dataframe thead th {\n",
       "        text-align: right;\n",
       "    }\n",
       "</style>\n",
       "<table border=\"1\" class=\"dataframe\">\n",
       "  <thead>\n",
       "    <tr style=\"text-align: right;\">\n",
       "      <th></th>\n",
       "      <th>RowNumber</th>\n",
       "      <th>CustomerId</th>\n",
       "      <th>Surname</th>\n",
       "      <th>CreditScore</th>\n",
       "      <th>Geography</th>\n",
       "      <th>Gender</th>\n",
       "      <th>Age</th>\n",
       "      <th>Tenure</th>\n",
       "      <th>Balance</th>\n",
       "      <th>NumOfProducts</th>\n",
       "      <th>HasCrCard</th>\n",
       "      <th>IsActiveMember</th>\n",
       "      <th>EstimatedSalary</th>\n",
       "      <th>Exited</th>\n",
       "    </tr>\n",
       "  </thead>\n",
       "  <tbody>\n",
       "    <tr>\n",
       "      <th>0</th>\n",
       "      <td>1</td>\n",
       "      <td>15634602</td>\n",
       "      <td>Hargrave</td>\n",
       "      <td>619.0</td>\n",
       "      <td>0</td>\n",
       "      <td>1</td>\n",
       "      <td>42</td>\n",
       "      <td>2</td>\n",
       "      <td>0.00</td>\n",
       "      <td>1</td>\n",
       "      <td>1</td>\n",
       "      <td>1</td>\n",
       "      <td>101348.88</td>\n",
       "      <td>1</td>\n",
       "    </tr>\n",
       "    <tr>\n",
       "      <th>1</th>\n",
       "      <td>2</td>\n",
       "      <td>15647311</td>\n",
       "      <td>Hill</td>\n",
       "      <td>608.0</td>\n",
       "      <td>1</td>\n",
       "      <td>1</td>\n",
       "      <td>41</td>\n",
       "      <td>1</td>\n",
       "      <td>83807.86</td>\n",
       "      <td>1</td>\n",
       "      <td>0</td>\n",
       "      <td>1</td>\n",
       "      <td>112542.58</td>\n",
       "      <td>0</td>\n",
       "    </tr>\n",
       "    <tr>\n",
       "      <th>2</th>\n",
       "      <td>3</td>\n",
       "      <td>15619304</td>\n",
       "      <td>Onio</td>\n",
       "      <td>502.0</td>\n",
       "      <td>0</td>\n",
       "      <td>1</td>\n",
       "      <td>42</td>\n",
       "      <td>8</td>\n",
       "      <td>159660.80</td>\n",
       "      <td>3</td>\n",
       "      <td>1</td>\n",
       "      <td>0</td>\n",
       "      <td>113931.57</td>\n",
       "      <td>1</td>\n",
       "    </tr>\n",
       "    <tr>\n",
       "      <th>3</th>\n",
       "      <td>4</td>\n",
       "      <td>15701354</td>\n",
       "      <td>Boni</td>\n",
       "      <td>699.0</td>\n",
       "      <td>0</td>\n",
       "      <td>1</td>\n",
       "      <td>39</td>\n",
       "      <td>1</td>\n",
       "      <td>0.00</td>\n",
       "      <td>2</td>\n",
       "      <td>0</td>\n",
       "      <td>0</td>\n",
       "      <td>93826.63</td>\n",
       "      <td>0</td>\n",
       "    </tr>\n",
       "    <tr>\n",
       "      <th>4</th>\n",
       "      <td>5</td>\n",
       "      <td>15737888</td>\n",
       "      <td>Mitchell</td>\n",
       "      <td>850.0</td>\n",
       "      <td>1</td>\n",
       "      <td>1</td>\n",
       "      <td>43</td>\n",
       "      <td>2</td>\n",
       "      <td>125510.82</td>\n",
       "      <td>1</td>\n",
       "      <td>1</td>\n",
       "      <td>1</td>\n",
       "      <td>79084.10</td>\n",
       "      <td>0</td>\n",
       "    </tr>\n",
       "    <tr>\n",
       "      <th>...</th>\n",
       "      <td>...</td>\n",
       "      <td>...</td>\n",
       "      <td>...</td>\n",
       "      <td>...</td>\n",
       "      <td>...</td>\n",
       "      <td>...</td>\n",
       "      <td>...</td>\n",
       "      <td>...</td>\n",
       "      <td>...</td>\n",
       "      <td>...</td>\n",
       "      <td>...</td>\n",
       "      <td>...</td>\n",
       "      <td>...</td>\n",
       "      <td>...</td>\n",
       "    </tr>\n",
       "    <tr>\n",
       "      <th>9995</th>\n",
       "      <td>9996</td>\n",
       "      <td>15606229</td>\n",
       "      <td>Obijiaku</td>\n",
       "      <td>771.0</td>\n",
       "      <td>0</td>\n",
       "      <td>0</td>\n",
       "      <td>39</td>\n",
       "      <td>5</td>\n",
       "      <td>0.00</td>\n",
       "      <td>2</td>\n",
       "      <td>1</td>\n",
       "      <td>0</td>\n",
       "      <td>96270.64</td>\n",
       "      <td>0</td>\n",
       "    </tr>\n",
       "    <tr>\n",
       "      <th>9996</th>\n",
       "      <td>9997</td>\n",
       "      <td>15569892</td>\n",
       "      <td>Johnstone</td>\n",
       "      <td>516.0</td>\n",
       "      <td>0</td>\n",
       "      <td>0</td>\n",
       "      <td>35</td>\n",
       "      <td>10</td>\n",
       "      <td>57369.61</td>\n",
       "      <td>1</td>\n",
       "      <td>1</td>\n",
       "      <td>1</td>\n",
       "      <td>101699.77</td>\n",
       "      <td>0</td>\n",
       "    </tr>\n",
       "    <tr>\n",
       "      <th>9997</th>\n",
       "      <td>9998</td>\n",
       "      <td>15584532</td>\n",
       "      <td>Liu</td>\n",
       "      <td>709.0</td>\n",
       "      <td>0</td>\n",
       "      <td>1</td>\n",
       "      <td>36</td>\n",
       "      <td>7</td>\n",
       "      <td>0.00</td>\n",
       "      <td>1</td>\n",
       "      <td>0</td>\n",
       "      <td>1</td>\n",
       "      <td>42085.58</td>\n",
       "      <td>1</td>\n",
       "    </tr>\n",
       "    <tr>\n",
       "      <th>9998</th>\n",
       "      <td>9999</td>\n",
       "      <td>15682355</td>\n",
       "      <td>Sabbatini</td>\n",
       "      <td>772.0</td>\n",
       "      <td>2</td>\n",
       "      <td>0</td>\n",
       "      <td>42</td>\n",
       "      <td>3</td>\n",
       "      <td>75075.31</td>\n",
       "      <td>2</td>\n",
       "      <td>1</td>\n",
       "      <td>0</td>\n",
       "      <td>92888.52</td>\n",
       "      <td>1</td>\n",
       "    </tr>\n",
       "    <tr>\n",
       "      <th>9999</th>\n",
       "      <td>10000</td>\n",
       "      <td>15628319</td>\n",
       "      <td>Walker</td>\n",
       "      <td>792.0</td>\n",
       "      <td>0</td>\n",
       "      <td>1</td>\n",
       "      <td>28</td>\n",
       "      <td>4</td>\n",
       "      <td>130142.79</td>\n",
       "      <td>1</td>\n",
       "      <td>1</td>\n",
       "      <td>0</td>\n",
       "      <td>38190.78</td>\n",
       "      <td>0</td>\n",
       "    </tr>\n",
       "  </tbody>\n",
       "</table>\n",
       "<p>10000 rows × 14 columns</p>\n",
       "</div>"
      ],
      "text/plain": [
       "      RowNumber  CustomerId    Surname  CreditScore  Geography  Gender  Age  \\\n",
       "0             1    15634602   Hargrave        619.0          0       1   42   \n",
       "1             2    15647311       Hill        608.0          1       1   41   \n",
       "2             3    15619304       Onio        502.0          0       1   42   \n",
       "3             4    15701354       Boni        699.0          0       1   39   \n",
       "4             5    15737888   Mitchell        850.0          1       1   43   \n",
       "...         ...         ...        ...          ...        ...     ...  ...   \n",
       "9995       9996    15606229   Obijiaku        771.0          0       0   39   \n",
       "9996       9997    15569892  Johnstone        516.0          0       0   35   \n",
       "9997       9998    15584532        Liu        709.0          0       1   36   \n",
       "9998       9999    15682355  Sabbatini        772.0          2       0   42   \n",
       "9999      10000    15628319     Walker        792.0          0       1   28   \n",
       "\n",
       "      Tenure    Balance  NumOfProducts  HasCrCard  IsActiveMember  \\\n",
       "0          2       0.00              1          1               1   \n",
       "1          1   83807.86              1          0               1   \n",
       "2          8  159660.80              3          1               0   \n",
       "3          1       0.00              2          0               0   \n",
       "4          2  125510.82              1          1               1   \n",
       "...      ...        ...            ...        ...             ...   \n",
       "9995       5       0.00              2          1               0   \n",
       "9996      10   57369.61              1          1               1   \n",
       "9997       7       0.00              1          0               1   \n",
       "9998       3   75075.31              2          1               0   \n",
       "9999       4  130142.79              1          1               0   \n",
       "\n",
       "      EstimatedSalary  Exited  \n",
       "0           101348.88       1  \n",
       "1           112542.58       0  \n",
       "2           113931.57       1  \n",
       "3            93826.63       0  \n",
       "4            79084.10       0  \n",
       "...               ...     ...  \n",
       "9995         96270.64       0  \n",
       "9996        101699.77       0  \n",
       "9997         42085.58       1  \n",
       "9998         92888.52       1  \n",
       "9999         38190.78       0  \n",
       "\n",
       "[10000 rows x 14 columns]"
      ]
     },
     "execution_count": 13,
     "metadata": {},
     "output_type": "execute_result"
    }
   ],
   "source": [
    "# df = pd.concat([df, pd.get_dummies(df['Geography'])], axis = 1)\n",
    "df['Geography'] = df['Geography'].apply(lambda x: 0 if x == 'France' else (1 if x == 'Spain' else 2))\n",
    "df['Gender'] = df['Gender'].apply(lambda x: 0 if x == 'Male' else 1)\n",
    "df"
   ]
  },
  {
   "cell_type": "code",
   "execution_count": 14,
   "id": "3f2a9d39-41e5-4d28-a095-4f50880a0772",
   "metadata": {},
   "outputs": [],
   "source": [
    "df['Bal_Prod'] = df['Balance']/df['NumOfProducts']\n",
    "df['Ten2Age'] = df['Tenure']/df['Age']\n",
    "df['Sal2Bal'] = df['Balance']/df['EstimatedSalary']"
   ]
  },
  {
   "cell_type": "markdown",
   "id": "653390b5-dbc7-475d-a03b-bce0cf7c70ff",
   "metadata": {},
   "source": [
    "### Preprocessing"
   ]
  },
  {
   "cell_type": "markdown",
   "id": "771f95bb-0e5e-4be6-8d69-c2acaab73a2c",
   "metadata": {},
   "source": [
    "Drop columns, and split dataset"
   ]
  },
  {
   "cell_type": "code",
   "execution_count": 129,
   "id": "e7223136-e2b3-41fa-80da-d056eac0e8b2",
   "metadata": {},
   "outputs": [],
   "source": [
    "X = df.drop(['RowNumber', 'CustomerId', 'Surname', 'Exited'], axis = 1)\n",
    "y = df['Exited']\n",
    "X_train, X_test, y_train, y_test = train_test_split(X, y, test_size = 0.3, random_state=0)\n"
   ]
  },
  {
   "cell_type": "code",
   "execution_count": 130,
   "id": "eb1f6477-93ea-4338-8411-8c38ab7f1c8c",
   "metadata": {},
   "outputs": [
    {
     "name": "stdout",
     "output_type": "stream",
     "text": [
      "0    5584\n",
      "1    1416\n",
      "Name: Exited, dtype: int64\n",
      "0    2379\n",
      "1     621\n",
      "Name: Exited, dtype: int64\n"
     ]
    }
   ],
   "source": [
    "print(y_train.value_counts())\n",
    "print(y_test.value_counts())"
   ]
  },
  {
   "cell_type": "markdown",
   "id": "e76d29d9-a44a-4ea7-9489-6d48bdd546f1",
   "metadata": {},
   "source": [
    "Define preprocessing functions to be put into pipeline"
   ]
  },
  {
   "cell_type": "code",
   "execution_count": 162,
   "id": "6e986399-9f2d-4ca6-a115-cf2895461115",
   "metadata": {},
   "outputs": [],
   "source": [
    "from imblearn.over_sampling import ADASYN\n",
    "from imblearn.combine import SMOTEENN \n",
    "from imblearn.under_sampling import ClusterCentroids \n",
    "adasyn = SMOTEENN(sampling_strategy = 0.5, random_state=0)\n",
    "# adasyn = ClusterCentroids(random_state=0)\n",
    "\n",
    "imputer = KNNImputer()"
   ]
  },
  {
   "cell_type": "markdown",
   "id": "494052b9-ba85-4693-9f74-136be2595dea",
   "metadata": {},
   "source": [
    "# Models\n",
    "Start with the most basic Logistic and RandomForest, low dimension data doesn't really need dim reduction"
   ]
  },
  {
   "cell_type": "code",
   "execution_count": 163,
   "id": "5cf8ccb9-3617-4562-9a37-be10d92ce255",
   "metadata": {},
   "outputs": [],
   "source": [
    "from sklearn.ensemble import RandomForestClassifier, GradientBoostingClassifier\n",
    "from sklearn.linear_model import LogisticRegression\n",
    "import xgboost as xgb\n",
    "from sklearn import svm\n",
    "\n",
    "rf_param_grid = {\n",
    "#     \"adasyn__sampling_strategy\": [0.4, 0.5],\n",
    "#     \"adasyn__n_neighbors\": [4, 5, 6],\n",
    "    \"classifier__max_depth\": [6],\n",
    "    \"classifier__n_estimators\": [80],\n",
    "    \"classifier__learning_rate\": [0.05],\n",
    "    \"classifier__gamma\": [0.1]\n",
    "    }\n",
    "rf_classifier = xgb.XGBClassifier(max_depth= 6, n_estimators = 80, eval_metric=[\"error\", 'logloss'],\n",
    "                                           learning_rate = 0.05, gamma=0.1, random_state=0, \n",
    "                                  use_label_encoder = False)\n"
   ]
  },
  {
   "cell_type": "markdown",
   "id": "ae1610f2-5e50-4fae-afff-1ac9ef8eca30",
   "metadata": {},
   "source": [
    "Define pipeline "
   ]
  },
  {
   "cell_type": "code",
   "execution_count": 164,
   "id": "95770bc3",
   "metadata": {},
   "outputs": [],
   "source": [
    "from sklearn.preprocessing import RobustScaler\n"
   ]
  },
  {
   "cell_type": "code",
   "execution_count": 165,
   "id": "c0847854-fb31-4a1b-810d-5953184cc307",
   "metadata": {
    "tags": []
   },
   "outputs": [],
   "source": [
    "pipe2 = Pipeline(steps = [\n",
    "    ('scaler', RobustScaler()),\n",
    "    ('impute', imputer), \n",
    "    ('adasyn', adasyn),\n",
    "    ('classifier', rf_classifier)\n",
    "                        ]\n",
    "               )"
   ]
  },
  {
   "cell_type": "code",
   "execution_count": 166,
   "id": "058f89a7-4f88-4c80-8305-27ffcade792d",
   "metadata": {},
   "outputs": [],
   "source": [
    "mod2 = GridSearchCV(pipe2, rf_param_grid, cv = 5, \n",
    "                    refit = 'recall', \n",
    "                    scoring='recall'\n",
    "                   )\n"
   ]
  },
  {
   "cell_type": "code",
   "execution_count": 167,
   "id": "5c7ae665-8872-49e5-84fc-0b4feb3b18fd",
   "metadata": {},
   "outputs": [
    {
     "name": "stdout",
     "output_type": "stream",
     "text": [
      "GridSearchCV(cv=5,\n",
      "             estimator=Pipeline(steps=[('scaler', RobustScaler()),\n",
      "                                       ('impute', KNNImputer()),\n",
      "                                       ('adasyn',\n",
      "                                        SMOTEENN(random_state=0,\n",
      "                                                 sampling_strategy=0.5)),\n",
      "                                       ('classifier',\n",
      "                                        XGBClassifier(base_score=None,\n",
      "                                                      booster=None,\n",
      "                                                      colsample_bylevel=None,\n",
      "                                                      colsample_bynode=None,\n",
      "                                                      colsample_bytree=None,\n",
      "                                                      enable_categorical=False,\n",
      "                                                      eval_metric=['error',\n",
      "                                                                   'logloss'],\n",
      "                                                      gamma=0.1, gpu_id=...\n",
      "                                                      num_parallel_tree=None,\n",
      "                                                      predictor=None,\n",
      "                                                      random_state=0,\n",
      "                                                      reg_alpha=None,\n",
      "                                                      reg_lambda=None,\n",
      "                                                      scale_pos_weight=None,\n",
      "                                                      subsample=None,\n",
      "                                                      tree_method=None,\n",
      "                                                      use_label_encoder=False,\n",
      "                                                      validate_parameters=None,\n",
      "                                                      verbosity=None))]),\n",
      "             param_grid={'classifier__gamma': [0.1],\n",
      "                         'classifier__learning_rate': [0.05],\n",
      "                         'classifier__max_depth': [6],\n",
      "                         'classifier__n_estimators': [80]},\n",
      "             refit='recall', scoring='recall')\n"
     ]
    }
   ],
   "source": [
    "print(mod2.fit(X_train, y_train))"
   ]
  },
  {
   "cell_type": "code",
   "execution_count": 168,
   "id": "e3fb4a96-59f0-4fb3-b055-5286588edcab",
   "metadata": {},
   "outputs": [
    {
     "name": "stdout",
     "output_type": "stream",
     "text": [
      "SMOTEENN(random_state=0, sampling_strategy=0.5)\n"
     ]
    },
    {
     "data": {
      "text/plain": [
       "XGBClassifier(base_score=0.5, booster='gbtree', colsample_bylevel=1,\n",
       "              colsample_bynode=1, colsample_bytree=1, enable_categorical=False,\n",
       "              eval_metric=['error', 'logloss'], gamma=0.1, gpu_id=-1,\n",
       "              importance_type=None, interaction_constraints='',\n",
       "              learning_rate=0.05, max_delta_step=0, max_depth=6,\n",
       "              min_child_weight=1, missing=nan, monotone_constraints='()',\n",
       "              n_estimators=80, n_jobs=16, num_parallel_tree=1, predictor='auto',\n",
       "              random_state=0, reg_alpha=0, reg_lambda=1, scale_pos_weight=1,\n",
       "              subsample=1, tree_method='exact', use_label_encoder=False,\n",
       "              validate_parameters=1, verbosity=None)"
      ]
     },
     "execution_count": 168,
     "metadata": {},
     "output_type": "execute_result"
    }
   ],
   "source": [
    "mod2.best_estimator_\n",
    "print(mod2.best_estimator_.get_params()['adasyn'])\n",
    "mod2.best_estimator_.get_params()['classifier']"
   ]
  },
  {
   "cell_type": "code",
   "execution_count": 169,
   "id": "962cb6e2-4c0a-402a-90bc-cb5e332f0001",
   "metadata": {},
   "outputs": [
    {
     "name": "stdout",
     "output_type": "stream",
     "text": [
      "recall\n",
      "0.6537842190016103\n",
      "accuracy\n",
      "0.8456666666666667\n",
      "0.6539729036982791\n",
      "0.6368627450980392\n"
     ]
    }
   ],
   "source": [
    "from sklearn.metrics import f1_score, accuracy_score\n",
    "\n",
    "print('recall')\n",
    "print(mod2.score(X_test, y_test))\n",
    "\n",
    "print('accuracy')\n",
    "print(accuracy_score(y_test, mod2.predict(X_test)))\n",
    "\n",
    "print(f1_score(y_train, mod2.predict(X_train)))\n",
    "print(f1_score(y_test, mod2.predict(X_test)))\n",
    "#0.6265060240963856"
   ]
  },
  {
   "cell_type": "code",
   "execution_count": 170,
   "id": "3c4d3add-19c1-4903-bb52-79ed8c37008c",
   "metadata": {},
   "outputs": [
    {
     "name": "stdout",
     "output_type": "stream",
     "text": [
      "[[5162  422]\n",
      " [ 523  893]]\n",
      "[[2131  248]\n",
      " [ 215  406]]\n"
     ]
    }
   ],
   "source": [
    "from sklearn.metrics import confusion_matrix\n",
    "print(confusion_matrix(y_train, mod2.predict(X_train)))\n",
    "print(confusion_matrix(y_test, mod2.predict(X_test)))"
   ]
  },
  {
   "cell_type": "code",
   "execution_count": 171,
   "id": "b94cfa0d-8658-4767-aac0-658287355141",
   "metadata": {},
   "outputs": [
    {
     "name": "stdout",
     "output_type": "stream",
     "text": [
      "{'0': {'precision': 0.9083546462063086, 'recall': 0.8957545187053384, 'f1-score': 0.902010582010582, 'support': 2379}, '1': {'precision': 0.6207951070336392, 'recall': 0.6537842190016103, 'f1-score': 0.6368627450980392, 'support': 621}, 'accuracy': 0.8456666666666667, 'macro avg': {'precision': 0.7645748766199738, 'recall': 0.7747693688534744, 'f1-score': 0.7694366635543106, 'support': 3000}, 'weighted avg': {'precision': 0.8488298215975659, 'recall': 0.8456666666666667, 'f1-score': 0.8471249797696857, 'support': 3000}}\n"
     ]
    }
   ],
   "source": [
    "from sklearn.metrics import classification_report\n",
    "print(classification_report(y_test, mod2.predict(X_test), output_dict = True))\n"
   ]
  },
  {
   "cell_type": "code",
   "execution_count": 172,
   "id": "a5c2f915-a52e-48d0-a20d-eac51bf83f9e",
   "metadata": {},
   "outputs": [
    {
     "data": {
      "text/plain": [
       "array([0.59039466])"
      ]
     },
     "execution_count": 172,
     "metadata": {},
     "output_type": "execute_result"
    }
   ],
   "source": [
    "mod2.cv_results_['mean_test_score']"
   ]
  },
  {
   "cell_type": "code",
   "execution_count": 173,
   "id": "ba015bc8",
   "metadata": {},
   "outputs": [
    {
     "data": {
      "image/png": "[encoded data removed]",
      "text/plain": [
       "<Figure size 432x288 with 1 Axes>"
      ]
     },
     "metadata": {
      "needs_background": "light"
     },
     "output_type": "display_data"
    }
   ],
   "source": [
    "from sklearn.metrics import PrecisionRecallDisplay\n",
    "\n",
    "display = PrecisionRecallDisplay.from_estimator(\n",
    "    mod2.best_estimator_.get_params()['classifier'], X_test, y_test, name=\"classifier\"\n",
    ")\n",
    "_ = display.ax_.set_title(\"2-class Precision-Recall curve\")\n"
   ]
  },
  {
   "cell_type": "code",
   "execution_count": 174,
   "id": "a2033854",
   "metadata": {},
   "outputs": [
    {
     "data": {
      "image/png": "[encoded data removed]",
      "text/plain": [
       "<Figure size 432x288 with 1 Axes>"
      ]
     },
     "metadata": {
      "needs_background": "light"
     },
     "output_type": "display_data"
    }
   ],
   "source": [
    "display = PrecisionRecallDisplay.from_estimator(\n",
    "    mod2.best_estimator_.get_params()['classifier'], X_train, y_train, name=\"classifier\"\n",
    ")\n",
    "_ = display.ax_.set_title(\"2-class Precision-Recall curve\")\n"
   ]
  },
  {
   "cell_type": "code",
   "execution_count": 175,
   "id": "2bd3bee1-a2aa-4d4b-a372-6da672efe1c9",
   "metadata": {},
   "outputs": [
    {
     "data": {
      "text/html": [
       "<div>\n",
       "<style scoped>\n",
       "    .dataframe tbody tr th:only-of-type {\n",
       "        vertical-align: middle;\n",
       "    }\n",
       "\n",
       "    .dataframe tbody tr th {\n",
       "        vertical-align: top;\n",
       "    }\n",
       "\n",
       "    .dataframe thead th {\n",
       "        text-align: right;\n",
       "    }\n",
       "</style>\n",
       "<table border=\"1\" class=\"dataframe\">\n",
       "  <thead>\n",
       "    <tr style=\"text-align: right;\">\n",
       "      <th></th>\n",
       "      <th>CreditScore</th>\n",
       "      <th>Geography</th>\n",
       "      <th>Gender</th>\n",
       "      <th>Age</th>\n",
       "      <th>Tenure</th>\n",
       "      <th>Balance</th>\n",
       "      <th>NumOfProducts</th>\n",
       "      <th>HasCrCard</th>\n",
       "      <th>IsActiveMember</th>\n",
       "      <th>EstimatedSalary</th>\n",
       "      <th>Bal_Prod</th>\n",
       "      <th>Ten2Age</th>\n",
       "      <th>Sal2Bal</th>\n",
       "    </tr>\n",
       "  </thead>\n",
       "  <tbody>\n",
       "    <tr>\n",
       "      <th>0</th>\n",
       "      <td>0.019959</td>\n",
       "      <td>0.086974</td>\n",
       "      <td>0.065731</td>\n",
       "      <td>0.223361</td>\n",
       "      <td>0.023392</td>\n",
       "      <td>0.049673</td>\n",
       "      <td>0.160414</td>\n",
       "      <td>0.038617</td>\n",
       "      <td>0.189005</td>\n",
       "      <td>0.025239</td>\n",
       "      <td>0.063514</td>\n",
       "      <td>0.020764</td>\n",
       "      <td>0.033359</td>\n",
       "    </tr>\n",
       "  </tbody>\n",
       "</table>\n",
       "</div>"
      ],
      "text/plain": [
       "   CreditScore  Geography    Gender       Age    Tenure   Balance  \\\n",
       "0     0.019959   0.086974  0.065731  0.223361  0.023392  0.049673   \n",
       "\n",
       "   NumOfProducts  HasCrCard  IsActiveMember  EstimatedSalary  Bal_Prod  \\\n",
       "0       0.160414   0.038617        0.189005         0.025239  0.063514   \n",
       "\n",
       "    Ten2Age   Sal2Bal  \n",
       "0  0.020764  0.033359  "
      ]
     },
     "execution_count": 175,
     "metadata": {},
     "output_type": "execute_result"
    }
   ],
   "source": [
    "feat_importance = pd.DataFrame(mod2.best_estimator_.named_steps['classifier'].feature_importances_).T\n",
    "feat_importance.columns = X_train.columns\n",
    "feat_importance"
   ]
  },
  {
   "cell_type": "code",
   "execution_count": 96,
   "id": "41e02a26-256d-4848-a000-9f92e95df7a2",
   "metadata": {
    "scrolled": false
   },
   "outputs": [
    {
     "name": "stdout",
     "output_type": "stream",
     "text": [
      "[14:04:42] WARNING: /Users/runner/work/xgboost/xgboost/src/learner.cc:576: \n",
      "Parameters: { \"silent\" } might not be used.\n",
      "\n",
      "  This could be a false alarm, with some parameters getting used by language bindings but\n",
      "  then being mistakenly passed down to XGBoost core, or some parameter actually being used\n",
      "  but getting flagged wrongly here. Please open an issue if you find any such cases.\n",
      "\n",
      "\n",
      "[0]\ttrain-logloss:0.41094\ttrain-error:0.20400\tvalid-logloss:0.41424\tvalid-error:0.20250\n",
      "Model error = 31.775700632403602\n",
      "0:[Age<43] yes=1,no=2,missing=1,gain=887.099548,cover=1299.07202\n",
      "\t1:[NumOfProducts<3] yes=3,no=4,missing=3,gain=300.10498,cover=926.56311\n",
      "\t\t3:[NumOfProducts<2] yes=7,no=8,missing=7,gain=127.164001,cover=906.42749\n",
      "\t\t\t7:[Geography<2] yes=15,no=16,missing=15,gain=65.2164078,cover=447.530304\n",
      "\t\t\t\t15:[Balance<75371.2969] yes=29,no=30,missing=29,gain=41.1629486,cover=341.168793\n",
      "\t\t\t\t\t29:[Gender<1] yes=49,no=50,missing=49,gain=14.7398825,cover=92.5588837\n",
      "\t\t\t\t\t\t49:[CreditScore<478.5] yes=79,no=80,missing=80,gain=7.62517214,cover=52.4500313\n",
      "\t\t\t\t\t\t\t79:leaf=0.379791409,cover=2.27337599\n",
      "\t\t\t\t\t\t\t80:leaf=-0.0940038115,cover=50.1766586\n",
      "\t\t\t\t\t\t50:[Age<38] yes=81,no=82,missing=81,gain=13.8505154,cover=40.1088486\n",
      "\t\t\t\t\t\t\t81:leaf=0.0443844274,cover=26.9557438\n",
      "\t\t\t\t\t\t\t82:leaf=0.412828177,cover=13.1531038\n",
      "\t\t\t\t\t30:[Balance<177775.578] yes=51,no=52,missing=51,gain=21.3621445,cover=248.609909\n",
      "\t\t\t\t\t\t51:[Age<40] yes=83,no=84,missing=83,gain=14.1096649,cover=239.029251\n",
      "\t\t\t\t\t\t\t83:leaf=-0.245087728,cover=202.168091\n",
      "\t\t\t\t\t\t\t84:leaf=-0.0420589373,cover=36.8611679\n",
      "\t\t\t\t\t\t52:[Gender<1] yes=85,no=86,missing=85,gain=7.41911793,cover=9.58065605\n",
      "\t\t\t\t\t\t\t85:leaf=-0.00628420198,cover=5.68344021\n",
      "\t\t\t\t\t\t\t86:leaf=0.496445328,cover=3.89721608\n",
      "\t\t\t\t16:[Age<34] yes=31,no=32,missing=31,gain=39.1149483,cover=106.361519\n",
      "\t\t\t\t\t31:[IsActiveMember<1] yes=53,no=54,missing=53,gain=7.36317062,cover=47.5785141\n",
      "\t\t\t\t\t\t53:[Balance<99795.2344] yes=87,no=88,missing=87,gain=7.71367979,cover=23.708065\n",
      "\t\t\t\t\t\t\t87:leaf=-0.297286183,cover=3.73483205\n",
      "\t\t\t\t\t\t\t88:leaf=0.127419546,cover=19.9732323\n",
      "\t\t\t\t\t\t54:[Ten2Age<0.313846171] yes=89,no=90,missing=89,gain=3.71945953,cover=23.8704491\n",
      "\t\t\t\t\t\t\t89:leaf=-0.216474786,cover=21.9218407\n",
      "\t\t\t\t\t\t\t90:leaf=0.157905012,cover=1.94860804\n",
      "\t\t\t\t\t32:[Balance<152111.266] yes=55,no=56,missing=55,gain=22.7658157,cover=58.7830086\n",
      "\t\t\t\t\t\t55:[Balance<90340.8594] yes=91,no=92,missing=91,gain=25.6560822,cover=52.9371834\n",
      "\t\t\t\t\t\t\t91:leaf=-0.170964211,cover=6.65774393\n",
      "\t\t\t\t\t\t\t92:leaf=0.436934114,cover=46.2794418\n",
      "\t\t\t\t\t\t56:[Tenure<9] yes=93,no=94,missing=93,gain=2.11184311,cover=5.84582424\n",
      "\t\t\t\t\t\t\t93:leaf=-0.310870171,cover=4.70913601\n",
      "\t\t\t\t\t\t\t94:leaf=0.080311209,cover=1.13668799\n",
      "\t\t\t8:[Sal2Bal<0.506030917] yes=17,no=18,missing=17,gain=12.6748962,cover=458.897186\n",
      "\t\t\t\t17:[Gender<1] yes=33,no=34,missing=33,gain=1.5368042,cover=278.65094\n",
      "\t\t\t\t\t33:leaf=-0.360746145,cover=152.478577\n",
      "\t\t\t\t\t34:[Tenure<1] yes=57,no=58,missing=57,gain=2.80953979,cover=126.172371\n",
      "\t\t\t\t\t\t57:[CreditScore<727] yes=95,no=96,missing=96,gain=2.57859612,cover=5.03390408\n",
      "\t\t\t\t\t\t\t95:leaf=-0.177406937,cover=3.89721608\n",
      "\t\t\t\t\t\t\t96:leaf=0.220715433,cover=1.13668799\n",
      "\t\t\t\t\t\t58:[Age<35] yes=97,no=98,missing=97,gain=1.40753174,cover=121.138466\n",
      "\t\t\t\t\t\t\t97:leaf=-0.345204145,cover=67.7141266\n",
      "\t\t\t\t\t\t\t98:leaf=-0.259714723,cover=53.4243355\n",
      "\t\t\t\t18:[Age<37] yes=35,no=36,missing=35,gain=5.45278931,cover=180.246246\n",
      "\t\t\t\t\t35:[Balance<182829.312] yes=59,no=60,missing=59,gain=1.45587158,cover=117.890785\n",
      "\t\t\t\t\t\t59:[Sal2Bal<0.52787596] yes=99,no=100,missing=99,gain=1.28949738,cover=115.130257\n",
      "\t\t\t\t\t\t\t99:leaf=-0.00457345927,cover=1.62384009\n",
      "\t\t\t\t\t\t\t100:leaf=-0.276655257,cover=113.506416\n",
      "\t\t\t\t\t\t60:[Ten2Age<0.18898809] yes=101,no=102,missing=101,gain=1.65067995,cover=2.76052809\n",
      "\t\t\t\t\t\t\t101:leaf=-0.21295552,cover=1.29907203\n",
      "\t\t\t\t\t\t\t102:leaf=0.14186725,cover=1.46145606\n",
      "\t\t\t\t\t36:[Sal2Bal<1.52538133] yes=61,no=62,missing=61,gain=3.22805023,cover=62.3554573\n",
      "\t\t\t\t\t\t61:[IsActiveMember<1] yes=103,no=104,missing=103,gain=3.61125755,cover=37.34832\n",
      "\t\t\t\t\t\t\t103:leaf=-0.001071373,cover=19.1613121\n",
      "\t\t\t\t\t\t\t104:leaf=-0.185250372,cover=18.1870079\n",
      "\t\t\t\t\t\t62:[Balance<173000] yes=105,no=106,missing=105,gain=1.23908234,cover=25.0071373\n",
      "\t\t\t\t\t\t\t105:leaf=-0.251531035,cover=23.545681\n",
      "\t\t\t\t\t\t\t106:leaf=0.0199881624,cover=1.46145606\n",
      "\t\t4:[Balance<23194.0801] yes=9,no=10,missing=9,gain=22.165863,cover=20.1356163\n",
      "\t\t\t9:[Ten2Age<0.205669075] yes=19,no=20,missing=19,gain=10.1862335,cover=8.11919975\n",
      "\t\t\t\t19:[CreditScore<747] yes=37,no=38,missing=38,gain=3.79378128,cover=6.00820827\n",
      "\t\t\t\t\t37:leaf=0.760280132,cover=4.87152004\n",
      "\t\t\t\t\t38:leaf=0.080311209,cover=1.13668799\n",
      "\t\t\t\t20:leaf=-0.0628738478,cover=2.11099195\n",
      "\t\t\t10:leaf=1.21932185,cover=12.0164165\n",
      "\t2:[IsActiveMember<1] yes=5,no=6,missing=5,gain=354.453003,cover=372.508911\n",
      "\t\t5:[Age<51] yes=11,no=12,missing=11,gain=196.945496,cover=167.580292\n",
      "\t\t\t11:[NumOfProducts<2] yes=21,no=22,missing=21,gain=87.8682861,cover=112.207344\n",
      "\t\t\t\t21:[Geography<2] yes=39,no=40,missing=39,gain=29.7522888,cover=64.3040619\n",
      "\t\t\t\t\t39:[Sal2Bal<0.510430574] yes=63,no=64,missing=63,gain=38.4179382,cover=43.0317612\n",
      "\t\t\t\t\t\t63:[Age<45] yes=107,no=108,missing=107,gain=2.45252991,cover=15.4264803\n",
      "\t\t\t\t\t\t\t107:leaf=0.463036478,cover=3.73483205\n",
      "\t\t\t\t\t\t\t108:leaf=1.00015378,cover=11.6916485\n",
      "\t\t\t\t\t\t64:[CreditScore<586.5] yes=109,no=110,missing=110,gain=8.06041908,cover=27.6052799\n",
      "\t\t\t\t\t\t\t109:leaf=0.536769867,cover=8.60635185\n",
      "\t\t\t\t\t\t\t110:leaf=0.181989744,cover=18.9989281\n",
      "\t\t\t\t\t40:[Balance<149283.047] yes=65,no=66,missing=65,gain=3.54631042,cover=21.2723045\n",
      "\t\t\t\t\t\t65:[Sal2Bal<0.57667315] yes=111,no=112,missing=111,gain=4.06509399,cover=20.1356163\n",
      "\t\t\t\t\t\t\t111:leaf=0.220715433,cover=1.13668799\n",
      "\t\t\t\t\t\t\t112:leaf=1.06703722,cover=18.9989281\n",
      "\t\t\t\t\t\t66:leaf=0.220715433,cover=1.13668799\n",
      "\t\t\t\t22:[NumOfProducts<3] yes=41,no=42,missing=41,gain=117.134369,cover=47.9032822\n",
      "\t\t\t\t\t41:[Balance<90429.0781] yes=67,no=68,missing=67,gain=14.4443111,cover=41.5703049\n",
      "\t\t\t\t\t\t67:[CreditScore<485.5] yes=113,no=114,missing=114,gain=3.48095703,cover=25.3319054\n",
      "\t\t\t\t\t\t\t113:leaf=0.220715433,cover=1.13668799\n",
      "\t\t\t\t\t\t\t114:leaf=-0.195227563,cover=24.1952171\n",
      "\t\t\t\t\t\t68:[Age<44] yes=115,no=116,missing=115,gain=5.99260139,cover=16.2383995\n",
      "\t\t\t\t\t\t\t115:leaf=-0.146903738,cover=3.24768019\n",
      "\t\t\t\t\t\t\t116:leaf=0.271894515,cover=12.9907207\n",
      "\t\t\t\t\t42:leaf=1.27004373,cover=6.33297634\n",
      "\t\t\t12:[Age<74] yes=23,no=24,missing=23,gain=21.2434692,cover=55.3729439\n",
      "\t\t\t\t23:[Sal2Bal<42.6716766] yes=43,no=44,missing=43,gain=0.773193359,cover=54.2362556\n",
      "\t\t\t\t\t43:[Age<69] yes=69,no=70,missing=69,gain=0.923278809,cover=53.0995674\n",
      "\t\t\t\t\t\t69:leaf=1.2219125,cover=51.962883\n",
      "\t\t\t\t\t\t70:leaf=0.361119658,cover=1.13668799\n",
      "\t\t\t\t\t44:leaf=0.361119658,cover=1.13668799\n",
      "\t\t\t\t24:leaf=-0.0600930117,cover=1.13668799\n",
      "\t\t6:[NumOfProducts<3] yes=13,no=14,missing=13,gain=120.27372,cover=204.928619\n",
      "\t\t\t13:[NumOfProducts<2] yes=25,no=26,missing=25,gain=97.1832657,cover=196.322266\n",
      "\t\t\t\t25:[Age<59] yes=45,no=46,missing=45,gain=54.722374,cover=106.361519\n",
      "\t\t\t\t\t45:[Geography<2] yes=71,no=72,missing=71,gain=40.0410004,cover=76.3204803\n",
      "\t\t\t\t\t\t71:[Balance<67569.2031] yes=117,no=118,missing=117,gain=35.2069626,cover=56.02248\n",
      "\t\t\t\t\t\t\t117:leaf=0.607967019,cover=17.0503197\n",
      "\t\t\t\t\t\t\t118:leaf=0.0978681073,cover=38.9721603\n",
      "\t\t\t\t\t\t72:[Balance<138895.969] yes=119,no=120,missing=119,gain=13.4998932,cover=20.2980003\n",
      "\t\t\t\t\t\t\t119:leaf=0.881343305,cover=15.7512484\n",
      "\t\t\t\t\t\t\t120:leaf=0.231919497,cover=4.54675198\n",
      "\t\t\t\t\t46:[Geography<2] yes=73,no=74,missing=73,gain=9.89483166,cover=30.0410404\n",
      "\t\t\t\t\t\t73:[Age<64] yes=121,no=122,missing=121,gain=5.9346385,cover=22.7337608\n",
      "\t\t\t\t\t\t\t121:leaf=0.0171199087,cover=9.09350395\n",
      "\t\t\t\t\t\t\t122:leaf=-0.2896671,cover=13.6402559\n",
      "\t\t\t\t\t\t74:[Tenure<8] yes=123,no=124,missing=123,gain=6.75231886,cover=7.30728006\n",
      "\t\t\t\t\t\t\t123:leaf=0.35281232,cover=5.68344021\n",
      "\t\t\t\t\t\t\t124:leaf=-0.233245939,cover=1.62384009\n",
      "\t\t\t\t26:[Sal2Bal<0.566071212] yes=47,no=48,missing=47,gain=30.6206551,cover=89.9607391\n",
      "\t\t\t\t\t47:[Ten2Age<0.165151507] yes=75,no=76,missing=75,gain=0.734107971,cover=52.1252632\n",
      "\t\t\t\t\t\t75:[Ten2Age<0.0173926204] yes=125,no=126,missing=125,gain=0.818016052,cover=47.9032822\n",
      "\t\t\t\t\t\t\t125:leaf=-0.139737859,cover=4.38436794\n",
      "\t\t\t\t\t\t\t126:leaf=-0.327986479,cover=43.5189133\n",
      "\t\t\t\t\t\t76:[Age<48] yes=127,no=128,missing=127,gain=3.23457599,cover=4.22198391\n",
      "\t\t\t\t\t\t\t127:leaf=-0.280811816,cover=2.92291212\n",
      "\t\t\t\t\t\t\t128:leaf=0.178506806,cover=1.29907203\n",
      "\t\t\t\t\t48:[Age<58] yes=77,no=78,missing=77,gain=5.83569908,cover=37.8354721\n",
      "\t\t\t\t\t\t77:[Balance<138106.875] yes=129,no=130,missing=129,gain=6.00559187,cover=27.4428959\n",
      "\t\t\t\t\t\t\t129:leaf=0.196472898,cover=21.1099205\n",
      "\t\t\t\t\t\t\t130:leaf=-0.120933183,cover=6.33297634\n",
      "\t\t\t\t\t\t78:[Sal2Bal<0.801285028] yes=131,no=132,missing=131,gain=8.14935017,cover=10.3925762\n",
      "\t\t\t\t\t\t\t131:leaf=0.28814289,cover=2.27337599\n",
      "\t\t\t\t\t\t\t132:leaf=-0.269760549,cover=8.11919975\n",
      "\t\t\t14:[Age<62] yes=27,no=28,missing=27,gain=6.96453857,cover=8.60635185\n",
      "\t\t\t\t27:leaf=1.26153767,cover=7.4696641\n",
      "\t\t\t\t28:leaf=0.220715433,cover=1.13668799\n",
      "\n"
     ]
    }
   ],
   "source": [
    "# train a model with single tree\n",
    "import numpy as np\n",
    "Xd = xgb.DMatrix(X_train, label=y_train)\n",
    "Xt = xgb.DMatrix(X_test, label=y_test)\n",
    "\n",
    "params = {\n",
    "    \"eta\": 0.5,\n",
    "    \"max_depth\": 7,\n",
    "    \"objective\": \"binary:logistic\",\n",
    "    \"silent\": 1,\n",
    "    \"base_score\": np.mean(y_train),\n",
    "    \"eval_metric\": [\"logloss\", \"error\"],\n",
    "    \"learning_rate\": 0.3,\n",
    "    \"sampling_method\": 'gradient_based'\n",
    "}\n",
    "\n",
    "model = xgb.train(params, Xd, 1, \n",
    "                  [(Xd, \"train\"), (Xt, \"valid\")], early_stopping_rounds=5\n",
    "                 )\n",
    "print(\"Model error =\", np.linalg.norm(y_train-model.predict(Xd)))\n",
    "print(model.get_dump(with_stats=True)[0])"
   ]
  },
  {
   "cell_type": "code",
   "execution_count": 97,
   "id": "76614314",
   "metadata": {},
   "outputs": [
    {
     "data": {
      "text/plain": [
       "5.9604645e-07"
      ]
     },
     "execution_count": 97,
     "metadata": {},
     "output_type": "execute_result"
    }
   ],
   "source": [
    "import shap\n",
    "pred = model.predict(Xd, output_margin=True)\n",
    "explainer = shap.TreeExplainer(model)\n",
    "shap_values = explainer.shap_values(Xd)\n",
    "np.abs(shap_values.sum(1) + explainer.expected_value - pred).max()"
   ]
  },
  {
   "cell_type": "code",
   "execution_count": 98,
   "id": "a0f55fa1",
   "metadata": {},
   "outputs": [
    {
     "data": {
      "image/png": "[encoded data removed]",
      "text/plain": [
       "<Figure size 576x482.4 with 2 Axes>"
      ]
     },
     "metadata": {
      "needs_background": "light"
     },
     "output_type": "display_data"
    }
   ],
   "source": [
    "shap.summary_plot(shap_values, X_train)\n"
   ]
  },
  {
   "cell_type": "code",
   "execution_count": null,
   "id": "920ea0ae",
   "metadata": {},
   "outputs": [],
   "source": []
  }
 ],
 "metadata": {
  "kernelspec": {
   "display_name": "Python 3",
   "language": "python",
   "name": "python3"
  },
  "language_info": {
   "codemirror_mode": {
    "name": "ipython",
    "version": 3
   },
   "file_extension": ".py",
   "mimetype": "text/x-python",
   "name": "python",
   "nbconvert_exporter": "python",
   "pygments_lexer": "ipython3",
   "version": "3.8.8"
  }
 },
 "nbformat": 4,
 "nbformat_minor": 5
}
